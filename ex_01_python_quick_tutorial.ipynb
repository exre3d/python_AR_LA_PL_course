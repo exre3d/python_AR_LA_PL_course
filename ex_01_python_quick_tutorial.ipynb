{
 "cells": [
  {
   "cell_type": "code",
   "execution_count": 1,
   "id": "b9edc996-cd4f-48a9-915e-350c7f695a9c",
   "metadata": {},
   "outputs": [
    {
     "name": "stdout",
     "output_type": "stream",
     "text": [
      "Hello python!\n"
     ]
    }
   ],
   "source": [
    "print('Hello python!')"
   ]
  },
  {
   "cell_type": "code",
   "execution_count": 3,
   "id": "cfa3530a-f1d5-4c40-bc7d-8528c894b620",
   "metadata": {},
   "outputs": [
    {
     "name": "stdout",
     "output_type": "stream",
     "text": [
      "Hello World!\n"
     ]
    }
   ],
   "source": [
    "print('Hello World!')"
   ]
  },
  {
   "cell_type": "code",
   "execution_count": 4,
   "id": "0f8ca50b-e0cd-4a60-b531-2d4a323bd356",
   "metadata": {},
   "outputs": [
    {
     "name": "stdout",
     "output_type": "stream",
     "text": [
      "Hello World!\n",
      "__________________________________________________\n",
      "学习使我快乐！\n",
      "Python好难啊！\n"
     ]
    }
   ],
   "source": [
    "print(\"Hello World!\")\n",
    "print(\"_\"*50)\n",
    "print(\"学习使我快乐！\")\n",
    "print(\"Python好难啊！\")"
   ]
  },
  {
   "cell_type": "code",
   "execution_count": 5,
   "id": "43af460e-41fd-47d2-82d2-998e7e6fdf1a",
   "metadata": {},
   "outputs": [
    {
     "name": "stdout",
     "output_type": "stream",
     "text": [
      "加： 8\n",
      "减： 2\n",
      "乘： 40\n",
      "除： 3.0\n",
      "整除： 1\n",
      "余数： 1\n",
      "幂： 25\n"
     ]
    }
   ],
   "source": [
    "print(\"加：\",5+3)\n",
    "print(\"减：\",4-2)\n",
    "print(\"乘：\",5*8)\n",
    "print(\"除：\", 6/2)\n",
    "print(\"整除：\", 4//3)\n",
    "print(\"余数：\", 5%2)\n",
    "print(\"幂：\",5**2)\n"
   ]
  },
  {
   "cell_type": "code",
   "execution_count": 16,
   "id": "aafedc3e-4161-4630-b9f5-fb4056dc2bc9",
   "metadata": {},
   "outputs": [
    {
     "name": "stdout",
     "output_type": "stream",
     "text": [
      "15642\n"
     ]
    }
   ],
   "source": [
    "x=5212\n",
    "func=3*x+6\n",
    "print(func)"
   ]
  },
  {
   "cell_type": "code",
   "execution_count": 7,
   "id": "2b88958a-461b-4e92-bcc9-0290e6e198d1",
   "metadata": {},
   "outputs": [
    {
     "name": "stdout",
     "output_type": "stream",
     "text": [
      "monadic_equation= 21.0\n",
      "monadic_equation=21.00\n",
      "monadic_equation=21.00\n"
     ]
    }
   ],
   "source": [
    "x=5.0\n",
    "monadic_equation=3*x+6\n",
    "print(\"monadic_equation=\",monadic_equation)\n",
    "print(\"monadic_equation=%.2f\"%monadic_equation)\n",
    "print(\"monadic_equation={:.2f}\".format(monadic_equation))"
   ]
  },
  {
   "cell_type": "code",
   "execution_count": 8,
   "id": "35f65292-1b46-4cb0-a85f-fb6da6b123ac",
   "metadata": {},
   "outputs": [
    {
     "name": "stdout",
     "output_type": "stream",
     "text": [
      "The longitude of the Xi'an coordinate is 108.94, and the latitude is 34.261013.\n"
     ]
    }
   ],
   "source": [
    "city_name=\"Xi'an\"\n",
    "coordinate_longitude=108.942292\n",
    "coordiante_latitude=34.261013\n",
    "print(\"The longitude of the Xi'an coordinate is {lon:.2f}, and the latitude is {lat}.\".format(lon=coordinate_longitude,lat=coordiante_latitude))\n"
   ]
  },
  {
   "cell_type": "code",
   "execution_count": 9,
   "id": "e6250a85-c9c5-429b-8533-b3c9b65d4472",
   "metadata": {},
   "outputs": [
    {
     "name": "stdout",
     "output_type": "stream",
     "text": [
      "func_2=2\n"
     ]
    }
   ],
   "source": [
    "x,y,b=2,5,7\n",
    "func_2=5*x+4*y-b\n",
    "print(\"func_2={}\".format(x,y,b,func_2))"
   ]
  },
  {
   "cell_type": "code",
   "execution_count": 17,
   "id": "0b668fea-d283-4e90-a1cc-73b41a90c316",
   "metadata": {},
   "outputs": [
    {
     "name": "stdout",
     "output_type": "stream",
     "text": [
      "[10, 14, 18]\n",
      "The list length=3\n",
      "Maximum value=18\n",
      "Minimum value=10\n"
     ]
    }
   ],
   "source": [
    "lst_n=list(range(10,21,4))\n",
    "print(lst_n)\n",
    "print(\"The list length={}\".format(len(lst_n)))\n",
    "print(\"Maximum value={}\".format(max(lst_n)))\n",
    "print(\"Minimum value={}\".format(min(lst_n)))\n"
   ]
  },
  {
   "cell_type": "code",
   "execution_count": 18,
   "id": "e84bfee3-11e8-4975-8c72-f2d7c2e82ca7",
   "metadata": {},
   "outputs": [
    {
     "name": "stdout",
     "output_type": "stream",
     "text": [
      "[5, 8, 11, 14, 17]\n",
      "The list length=5\n",
      "Maximum value=17\n",
      "Minimum value=5\n"
     ]
    }
   ],
   "source": [
    "lst_n=list(range(5,20,3))\n",
    "print(lst_n)\n",
    "print(\"The list length={}\".format(len(lst_n)))\n",
    "print(\"Maximum value={}\".format(max(lst_n)))\n",
    "print(\"Minimum value={}\".format(min(lst_n)))\n"
   ]
  },
  {
   "cell_type": "code",
   "execution_count": 162,
   "id": "e685b3ad-bcb4-4c28-aac4-784146ff5eff",
   "metadata": {},
   "outputs": [
    {
     "name": "stdout",
     "output_type": "stream",
     "text": [
      "[5, 8, 11, 14, 17]\n",
      "The list length=5\n",
      "Maximum value=17\n",
      "Minimum value=5\n"
     ]
    }
   ],
   "source": [
    "lst_n=list(range(5,20,3))\n",
    "print(lst_n)\n",
    "print(\"The list length={}\".format(len(lst_n)))\n",
    "print(\"Maximum value={}\".format(max(lst_n)))\n",
    "print(\"Minimum value={}\".format(min(lst_n)))\n"
   ]
  },
  {
   "cell_type": "code",
   "execution_count": 21,
   "id": "b2640bc9-fd74-4a67-8584-0818ae34bee4",
   "metadata": {},
   "outputs": [
    {
     "name": "stdout",
     "output_type": "stream",
     "text": [
      "[11, 15, 19]\n",
      "The list length=3\n",
      "Maximum value=19\n",
      "Minimum value=11\n"
     ]
    }
   ],
   "source": [
    "lst_n=list(range(11,21,4))\n",
    "print(lst_n)\n",
    "print(\"The list length={}\".format(len(lst_n)))\n",
    "print(\"Maximum value={}\".format(max(lst_n)))\n",
    "print(\"Minimum value={}\".format(min(lst_n)))\n"
   ]
  },
  {
   "cell_type": "code",
   "execution_count": 163,
   "id": "6bed6219-f26c-47b9-9847-e19917fcea66",
   "metadata": {},
   "outputs": [
    {
     "name": "stdout",
     "output_type": "stream",
     "text": [
      "[5, 8, 11, 14, 17]\n",
      "The list length=5\n",
      "Maximum value=17\n",
      "Minimum value=5\n"
     ]
    }
   ],
   "source": [
    "lst_n=list(range(5,20,3))\n",
    "print(lst_n)\n",
    "print(\"The list length={}\".format(len(lst_n)))\n",
    "print(\"Maximum value={}\".format(max(lst_n)))\n",
    "print(\"Minimum value={}\".format(min(lst_n)))\n"
   ]
  },
  {
   "cell_type": "code",
   "execution_count": 22,
   "id": "bb9424b5-8fba-4edf-9077-39c3046273a2",
   "metadata": {},
   "outputs": [
    {
     "name": "stdout",
     "output_type": "stream",
     "text": [
      "['\\n', '\\x0b', '\\x0c', '\\r', '\\x0e', '\\x0f', '\\x10', '\\x11', '\\x12', '\\x13']\n",
      "__________________________________________________\n",
      "[3:6]->['\\r', '\\x0e', '\\x0f']\n",
      "[6:3]->[]\n",
      "[3:]->['\\r', '\\x0e', '\\x0f', '\\x10', '\\x11', '\\x12', '\\x13']\n",
      "[:3]->['\\n', '\\x0b', '\\x0c']\n",
      "[-3:]->['\\x11', '\\x12', '\\x13']\n"
     ]
    }
   ],
   "source": [
    "lst_s=list(map(chr,range(10,20)))\n",
    "print(lst_s)\n",
    "print(\"_\"*50)\n",
    "print(\"[3:6]->{}\".format(lst_s[3:6]))\n",
    "print(\"[6:3]->{}\".format(lst_s[6:3]))\n",
    "print(\"[3:]->{}\".format(lst_s[3:]))\n",
    "print(\"[:3]->{}\".format(lst_s[:3]))\n",
    "print(\"[-3:]->{}\".format(lst_s[-3:]))"
   ]
  },
  {
   "cell_type": "code",
   "execution_count": 23,
   "id": "9ab54f90-7441-4827-9906-2ef128c83dba",
   "metadata": {},
   "outputs": [
    {
     "name": "stdout",
     "output_type": "stream",
     "text": [
      "Help on class map in module builtins:\n",
      "\n",
      "class map(object)\n",
      " |  map(func, *iterables) --> map object\n",
      " |  \n",
      " |  Make an iterator that computes the function using arguments from\n",
      " |  each of the iterables.  Stops when the shortest iterable is exhausted.\n",
      " |  \n",
      " |  Methods defined here:\n",
      " |  \n",
      " |  __getattribute__(self, name, /)\n",
      " |      Return getattr(self, name).\n",
      " |  \n",
      " |  __iter__(self, /)\n",
      " |      Implement iter(self).\n",
      " |  \n",
      " |  __next__(self, /)\n",
      " |      Implement next(self).\n",
      " |  \n",
      " |  __reduce__(...)\n",
      " |      Return state information for pickling.\n",
      " |  \n",
      " |  ----------------------------------------------------------------------\n",
      " |  Static methods defined here:\n",
      " |  \n",
      " |  __new__(*args, **kwargs) from builtins.type\n",
      " |      Create and return a new object.  See help(type) for accurate signature.\n",
      "\n"
     ]
    }
   ],
   "source": [
    "help(map)"
   ]
  },
  {
   "cell_type": "code",
   "execution_count": 24,
   "id": "2446c7d4-8079-4b19-b817-511db1dd3e46",
   "metadata": {},
   "outputs": [
    {
     "name": "stdout",
     "output_type": "stream",
     "text": [
      "Help on built-in function chr in module builtins:\n",
      "\n",
      "chr(i, /)\n",
      "    Return a Unicode string of one character with ordinal i; 0 <= i <= 0x10ffff.\n",
      "\n"
     ]
    }
   ],
   "source": [
    "help(chr)"
   ]
  },
  {
   "cell_type": "code",
   "execution_count": 26,
   "id": "c68e0647-f18a-4d99-a9c5-5cec91a764d3",
   "metadata": {},
   "outputs": [
    {
     "name": "stdout",
     "output_type": "stream",
     "text": [
      "['\\n', '\\x0b', '\\x0c', '\\r', '\\x0e', '\\x0f', '\\x10', '\\x11', '\\x12', '\\x13']\n"
     ]
    }
   ],
   "source": [
    "print(lst_s)"
   ]
  },
  {
   "cell_type": "code",
   "execution_count": 27,
   "id": "2bb75a4b-b0dc-4425-ac05-bfface74675c",
   "metadata": {},
   "outputs": [
    {
     "name": "stdout",
     "output_type": "stream",
     "text": [
      "['\\n', '\\x0b', '\\x0c', '\\r', '\\x0e', '\\x0f', '\\x10', '\\x11', '\\x12', '\\x13']\n",
      "______________________________\n",
      "[1:5:2]->['\\x0b', '\\r']\n"
     ]
    }
   ],
   "source": [
    "print(lst_s)\n",
    "print(\"_\"*30)\n",
    "print(\"[1:5:2]->{}\".format(lst_s[1:5:2]))"
   ]
  },
  {
   "cell_type": "code",
   "execution_count": 28,
   "id": "0afd2305-6835-456a-be88-91f8109714dc",
   "metadata": {},
   "outputs": [
    {
     "name": "stdout",
     "output_type": "stream",
     "text": [
      "['\\n', '\\x0b', '\\x0c', '\\r', '\\x0e', '\\x0f', '\\x10', '\\x11', '\\x12', '\\x13']\n",
      "______________________________\n",
      "[5:1:2]->[]\n"
     ]
    }
   ],
   "source": [
    "print(lst_s)\n",
    "print(\"_\"*30)\n",
    "print(\"[5:1:2]->{}\".format(lst_s[5:1:2]))"
   ]
  },
  {
   "cell_type": "code",
   "execution_count": 29,
   "id": "bbf0fba0-5368-4201-a972-aa4d65d4d8fe",
   "metadata": {},
   "outputs": [
    {
     "name": "stdout",
     "output_type": "stream",
     "text": [
      "['\\n', '\\x0b', '\\x0c', '\\r', '\\x0e', '\\x0f', '\\x10', '\\x11', '\\x12', '\\x13']\n",
      "______________________________\n",
      "[6:9:3]->['\\x10']\n"
     ]
    }
   ],
   "source": [
    "print(lst_s)\n",
    "print(\"_\"*30)\n",
    "print(\"[6:9:3]->{}\".format(lst_s[6:9:3]))"
   ]
  },
  {
   "cell_type": "code",
   "execution_count": 31,
   "id": "a30b27d2-b332-40bb-b3aa-69d50626dfd6",
   "metadata": {},
   "outputs": [
    {
     "name": "stdout",
     "output_type": "stream",
     "text": [
      "['\\n', '\\x0b', '\\x0c', '\\r', '\\x0e', '\\x0f', '\\x10', '\\x11', '\\x12', '\\x13']\n",
      "______________________________\n",
      "[::2]->['\\n', '\\x0c', '\\x0e', '\\x10', '\\x12']\n"
     ]
    }
   ],
   "source": [
    "print(lst_s)\n",
    "print(\"_\"*30)\n",
    "print(\"[::2]->{}\".format(lst_s[::2]))"
   ]
  },
  {
   "cell_type": "code",
   "execution_count": 32,
   "id": "95d71017-6f8a-4a72-b542-505831ad2dd4",
   "metadata": {},
   "outputs": [
    {
     "name": "stdout",
     "output_type": "stream",
     "text": [
      "['\\n', '\\x0b', '\\x0c', '\\r', '\\x0e', '\\x0f', '\\x10', '\\x11', '\\x12', '\\x13']\n",
      "______________________________\n",
      "[6::3]->['\\x10', '\\x13']\n"
     ]
    }
   ],
   "source": [
    "print(lst_s)\n",
    "print(\"_\"*30)\n",
    "print(\"[6::3]->{}\".format(lst_s[6::3]))"
   ]
  },
  {
   "cell_type": "code",
   "execution_count": 33,
   "id": "89a28cba-feae-47ec-95df-794c75a27f6d",
   "metadata": {},
   "outputs": [
    {
     "name": "stdout",
     "output_type": "stream",
     "text": [
      "['\\n', '\\x0b', '\\x0c', '\\r', '\\x0e', '\\x0f', '\\x10', '\\x11', '\\x12', '\\x13']\n",
      "______________________________\n",
      "[:-9:3]->['\\n']\n"
     ]
    }
   ],
   "source": [
    "print(lst_s)\n",
    "print(\"_\"*30)\n",
    "print(\"[:-9:3]->{}\".format(lst_s[:-9:3]))"
   ]
  },
  {
   "cell_type": "code",
   "execution_count": 36,
   "id": "4031abef-1a4d-4f92-a9de-f7fa399f67f9",
   "metadata": {},
   "outputs": [
    {
     "name": "stdout",
     "output_type": "stream",
     "text": [
      "['\\n', '\\x0b', '\\x0c', '\\r', 10, '\\x0f', '\\x10', '\\x11', '\\x12', '\\x13']\n",
      "______________________________\n",
      "lst_s[4]=10->['\\n', '\\x0b', '\\x0c', '\\r', 10, '\\x0f', '\\x10', '\\x11', '\\x12', '\\x13']\n",
      "lst_s+[None]*6->['\\n', '\\x0b', '\\x0c', '\\r', 10, '\\x0f', '\\x10', '\\x11', '\\x12', '\\x13', None, None, None]\n",
      "lst_none[1]=20->['\\n', 20, '\\x0c', '\\r', 10, '\\x0f', '\\x10', '\\x11', '\\x12', '\\x13', None, None, None]\n",
      "lst_none[-6:-3]=list(range(10,20,2))->['\\n', 20, '\\x0c', '\\r', 10, '\\x0f', '\\x10', 10, 12, 14, 16, 18, None, None, None]\n",
      "lst_none[1:1]=[0,0,0,2]->['\\n', 0, 0, 0, 2, 20, '\\x0c', '\\r', 10, '\\x0f', '\\x10', 10, 12, 14, 16, 18, None, None, None]\n",
      "del lst_none[-2:]->['\\n', 0, 0, 0, 2, 20, '\\x0c', '\\r', 10, '\\x0f', '\\x10', 10, 12, 14, 16, 18, None]\n"
     ]
    }
   ],
   "source": [
    "print(lst_s)\n",
    "print(\"_\"*30)\n",
    "lst_s[4]=10\n",
    "print(\"lst_s[4]=10->{}\".format(lst_s))\n",
    "lst_none=lst_s+[None]*3\n",
    "print(\"lst_s+[None]*6->{}\".format(lst_none))\n",
    "lst_none[1]=20\n",
    "print(\"lst_none[1]=20->{}\".format(lst_none))\n",
    "lst_none[-6:-3]=list(range(10,20,2))\n",
    "print(\"lst_none[-6:-3]=list(range(10,20,2))->{}\".format(lst_none))\n",
    "lst_none[1:1]=[0,0,0,2]\n",
    "print(\"lst_none[1:1]=[0,0,0,2]->{}\".format(lst_none))\n",
    "del lst_none[-2:]\n",
    "print(\"del lst_none[-2:]->{}\".format(lst_none))\n"
   ]
  },
  {
   "cell_type": "code",
   "execution_count": 37,
   "id": "fa35aa0e-4b46-43b6-98e8-d6c947d93754",
   "metadata": {},
   "outputs": [],
   "source": [
    "lst_s_2=list(map(chr,range(95,100)))"
   ]
  },
  {
   "cell_type": "code",
   "execution_count": 38,
   "id": "e96f6a4d-37e4-4a70-910b-015b8df722ab",
   "metadata": {},
   "outputs": [
    {
     "name": "stdout",
     "output_type": "stream",
     "text": [
      "['_', '`', 'a', 'b', 'c']\n"
     ]
    }
   ],
   "source": [
    "print(lst_s_2)"
   ]
  },
  {
   "cell_type": "code",
   "execution_count": 41,
   "id": "60b93bd4-29a3-4c22-b3aa-ca2053c0d180",
   "metadata": {},
   "outputs": [],
   "source": [
    "lst_s_2.append(10)"
   ]
  },
  {
   "cell_type": "code",
   "execution_count": 42,
   "id": "cb12cea8-479e-4cd5-9a56-833b7b9054d5",
   "metadata": {},
   "outputs": [
    {
     "name": "stdout",
     "output_type": "stream",
     "text": [
      "['_', '`', 'a', 'b', 'c', 10]\n"
     ]
    }
   ],
   "source": [
    "print(lst_s_2)"
   ]
  },
  {
   "cell_type": "code",
   "execution_count": 43,
   "id": "95ebc401-6b77-4fb3-8ad8-49882279cf0d",
   "metadata": {},
   "outputs": [
    {
     "name": "stdout",
     "output_type": "stream",
     "text": [
      "lst_s_2.append(10)->['_', '`', 'a', 'b', 'c', 10]\n"
     ]
    }
   ],
   "source": [
    "print(\"lst_s_2.append(10)->{}\".format(lst_s_2))"
   ]
  },
  {
   "cell_type": "code",
   "execution_count": 44,
   "id": "6f5a6897-f1ce-4cf9-8834-1ff8ef0ebbef",
   "metadata": {},
   "outputs": [],
   "source": [
    "lst_s_2.append(list(range(10,30,5)))"
   ]
  },
  {
   "cell_type": "code",
   "execution_count": 51,
   "id": "152c0823-15cf-4a3a-936e-fc8460a23663",
   "metadata": {},
   "outputs": [
    {
     "name": "stdout",
     "output_type": "stream",
     "text": [
      "['_', '`', 'a', 'b', 'c', 10, [10, 15, 20, 25]]\n"
     ]
    }
   ],
   "source": [
    "print(lst_s_2)"
   ]
  },
  {
   "cell_type": "code",
   "execution_count": 50,
   "id": "6396e015-4402-4063-b491-865fa918eaa7",
   "metadata": {},
   "outputs": [],
   "source": [
    "lst_spechars=['*',')','*']"
   ]
  },
  {
   "cell_type": "code",
   "execution_count": 52,
   "id": "5f053730-f186-4bb5-b2e2-18c68e51edb1",
   "metadata": {},
   "outputs": [
    {
     "name": "stdout",
     "output_type": "stream",
     "text": [
      "['_', '`', 'a', 'b', 'c', 10, [10, 15, 20, 25]]\n"
     ]
    }
   ],
   "source": [
    "print(lst_s_2)"
   ]
  },
  {
   "cell_type": "code",
   "execution_count": 53,
   "id": "c3808a0c-61f3-4dcf-a1f1-63c70dc31ce7",
   "metadata": {},
   "outputs": [],
   "source": [
    "lst_s_2.extend(lst_spechars)"
   ]
  },
  {
   "cell_type": "code",
   "execution_count": 54,
   "id": "4a53356a-f971-4289-b272-8ba5e1bcda84",
   "metadata": {},
   "outputs": [
    {
     "name": "stdout",
     "output_type": "stream",
     "text": [
      "['_', '`', 'a', 'b', 'c', 10, [10, 15, 20, 25], '*', ')', '*']\n"
     ]
    }
   ],
   "source": [
    "print(lst_s_2)"
   ]
  },
  {
   "cell_type": "code",
   "execution_count": 60,
   "id": "b2671de8-5ce5-4eca-8472-678728c73d5d",
   "metadata": {},
   "outputs": [
    {
     "name": "stdout",
     "output_type": "stream",
     "text": [
      "lst_s_2.extend(lst_spechars)->['_', '`', 'a', 'b', 'c', 10, [10, 15, 20, 25], '*', ')', '*']\n",
      "lst_s_2.count(10)=1\n",
      "lst_s_2.index('_')=0\n"
     ]
    }
   ],
   "source": [
    "print(\"lst_s_2.extend(lst_spechars)->{}\".format(lst_s_2))\n",
    "print(\"lst_s_2.count(10)={}\".format(lst_s_2.count(10)))\n",
    "print(\"lst_s_2.index('_')={}\".format(lst_s_2.index('_')))"
   ]
  },
  {
   "cell_type": "code",
   "execution_count": 61,
   "id": "bb3cd1bb-68ee-4b58-b650-bd006fcc26bd",
   "metadata": {},
   "outputs": [],
   "source": [
    "lst_s_2.insert(2,[10,50,100])"
   ]
  },
  {
   "cell_type": "code",
   "execution_count": 62,
   "id": "a252aba8-7fde-4c45-92c4-aa40e3102bd5",
   "metadata": {},
   "outputs": [
    {
     "name": "stdout",
     "output_type": "stream",
     "text": [
      "['_', '`', [10, 50, 100], 'a', 'b', 'c', 10, [10, 15, 20, 25], '*', ')', '*']\n"
     ]
    }
   ],
   "source": [
    "print(lst_s_2)"
   ]
  },
  {
   "cell_type": "code",
   "execution_count": 63,
   "id": "23840094-9300-4286-b282-f27662c9898b",
   "metadata": {},
   "outputs": [
    {
     "name": "stdout",
     "output_type": "stream",
     "text": [
      "lst_s_2.pop(7)_popup->[10, 15, 20, 25]\n",
      "lst_s_2.pop(7)_retention->['_', '`', [10, 50, 100], 'a', 'b', 'c', 10, '*', ')', '*']\n"
     ]
    }
   ],
   "source": [
    "print(\"lst_s_2.pop(7)_popup->{}\".format(lst_s_2.pop(7)))\n",
    "print(\"lst_s_2.pop(7)_retention->{}\".format(lst_s_2))"
   ]
  },
  {
   "cell_type": "code",
   "execution_count": 64,
   "id": "b6cea184-eabc-4c6c-9dcd-5dd0428ed49f",
   "metadata": {},
   "outputs": [],
   "source": [
    "lst_s_2.remove('*')"
   ]
  },
  {
   "cell_type": "code",
   "execution_count": 66,
   "id": "ec0e5969-ae06-4069-95d8-599f174a5db5",
   "metadata": {},
   "outputs": [
    {
     "name": "stdout",
     "output_type": "stream",
     "text": [
      "lst_s_2.remove('*')_retention->['_', '`', [10, 50, 100], 'a', 'b', 'c', 10, ')', '*']\n"
     ]
    }
   ],
   "source": [
    "print(\"lst_s_2.remove('*')_retention->{}\".format(lst_s_2))\n",
    "list_n_2=[5,4,56,2,4,36]"
   ]
  },
  {
   "cell_type": "code",
   "execution_count": 67,
   "id": "f91dcffa-8196-4c13-b3e2-d28ba239d757",
   "metadata": {},
   "outputs": [
    {
     "name": "stdout",
     "output_type": "stream",
     "text": [
      "list_n_2.sort()->[2, 4, 4, 5, 36, 56]\n"
     ]
    }
   ],
   "source": [
    "list_n_2.sort()\n",
    "print(\"list_n_2.sort()->{}\".format(list_n_2))"
   ]
  },
  {
   "cell_type": "code",
   "execution_count": 68,
   "id": "cb3f59be-3ba5-4f86-a8b0-91e3f7d7a72e",
   "metadata": {},
   "outputs": [
    {
     "name": "stdout",
     "output_type": "stream",
     "text": [
      "['_', '`', [10, 50, 100], 'a', 'b', 'c', 10, ')', '*']\n"
     ]
    }
   ],
   "source": [
    "print(lst_s_2)"
   ]
  },
  {
   "cell_type": "code",
   "execution_count": 70,
   "id": "0cfd974f-0eda-4267-91f7-ff6eebb9554b",
   "metadata": {},
   "outputs": [
    {
     "name": "stdout",
     "output_type": "stream",
     "text": [
      "[2, 4, 4, 5, 36, 56]\n"
     ]
    }
   ],
   "source": [
    "print(list_n_2)"
   ]
  },
  {
   "cell_type": "code",
   "execution_count": 12,
   "id": "2485a701-9a2a-41fe-88f9-a86b3ad8e2de",
   "metadata": {},
   "outputs": [
    {
     "name": "stdout",
     "output_type": "stream",
     "text": [
      "tuple_1=2,3,5,->(2, 3, 5)\n",
      "4*(20*2,)->(40, 40, 40, 40)\n",
      "tuple((3,4,12))->(3, 4, 12)\n",
      "tuple([5,4,6])->(5, 4, 6)\n"
     ]
    }
   ],
   "source": [
    "tuple_1=2,3,5,\n",
    "print(\"tuple_1=2,3,5,->{}\".format(tuple_1))\n",
    "print(\"4*(20*2,)->{}\".format(4*(20*2,)))\n",
    "print(\"tuple((3,4,12))->{}\".format(tuple((3,4,12))))\n",
    "print(\"tuple([5,4,6])->{}\".format(tuple([5,4,6])))\n"
   ]
  },
  {
   "cell_type": "code",
   "execution_count": 13,
   "id": "0de782f9-2918-4538-9463-12c45e27f356",
   "metadata": {},
   "outputs": [],
   "source": [
    "import random"
   ]
  },
  {
   "cell_type": "code",
   "execution_count": 14,
   "id": "bffcf3f7-0f3a-41fe-b3b3-f8df18259147",
   "metadata": {},
   "outputs": [
    {
     "name": "stdout",
     "output_type": "stream",
     "text": [
      "items->[(0, [0, 1, 2, 3, 4]), (3, [[141, 198, 181]]), (2, 'python')]\n"
     ]
    }
   ],
   "source": [
    "items=[(0,[i for i in range(5)]),(3,[random.sample(list(range(100,200,1)),3)]),(2,'python')]\n",
    "print(\"items->{}\".format(items))"
   ]
  },
  {
   "cell_type": "code",
   "execution_count": 15,
   "id": "46a50c1a-5bd1-444d-b5ed-d0d4719cb170",
   "metadata": {},
   "outputs": [],
   "source": [
    "dic=dict(items)"
   ]
  },
  {
   "cell_type": "code",
   "execution_count": 19,
   "id": "6aa0096a-0fb3-4327-ba47-d9f62ea2ef48",
   "metadata": {},
   "outputs": [
    {
     "name": "stdout",
     "output_type": "stream",
     "text": [
      "dic=dict(items)->{0: [0, 1, 2, 3, 4], 3: [[141, 198, 181]], 2: 'python'}\n",
      "dic[0]->[0, 1, 2, 3, 4]\n"
     ]
    }
   ],
   "source": [
    "print(\"dic=dict(items)->{}\".format(dic))\n",
    "print(\"dic[0]->{}\".format(dic[0]))"
   ]
  },
  {
   "cell_type": "code",
   "execution_count": 18,
   "id": "16ffab79-9000-4464-8a50-3aca0ee3c6f0",
   "metadata": {},
   "outputs": [
    {
     "name": "stdout",
     "output_type": "stream",
     "text": [
      "dic[2]->python\n"
     ]
    }
   ],
   "source": [
    "print(\"dic[2]->{}\".format(dic[2]))"
   ]
  },
  {
   "cell_type": "code",
   "execution_count": 7,
   "id": "ae857ca8-9f98-49de-b211-2e0a2bcd12fc",
   "metadata": {},
   "outputs": [
    {
     "name": "stdout",
     "output_type": "stream",
     "text": [
      "len(dic)->3\n",
      "dic[3]=(random.random(),random.uniform(100,200))->{0: [0, 1, 2, 3, 4], 3: (0.08098029781815508, 162.37256728243003), 2: 'python'}\n",
      "del dic[2]->{0: [0, 1, 2, 3, 4], 3: (0.08098029781815508, 162.37256728243003)}\n",
      "3 in dic->True\n",
      "5 in dic->False\n",
      "dic.keys()->dict_keys([0, 3])\n",
      "dic.values()->dict_values([[0, 1, 2, 3, 4], (0.08098029781815508, 162.37256728243003)])\n",
      "dic.items()->dict_items([(0, [0, 1, 2, 3, 4]), (3, (0.08098029781815508, 162.37256728243003))])\n",
      "__________________________________________________\n",
      "list(dic.keys())->[0, 3]\n"
     ]
    }
   ],
   "source": [
    "print(\"len(dic)->{}\".format(len(dic)))\n",
    "dic[3]=(random.random(),random.uniform(100,200))\n",
    "print(\"dic[3]=(random.random(),random.uniform(100,200))->{}\".format(dic))\n",
    "del dic[2]\n",
    "print(\"del dic[2]->{}\".format(dic))\n",
    "print(\"3 in dic->{}\".format(3 in dic))\n",
    "print(\"5 in dic->{}\".format(5 in dic))\n",
    "print(\"dic.keys()->{}\".format(dic.keys()))\n",
    "print(\"dic.values()->{}\".format(dic.values()))\n",
    "print(\"dic.items()->{}\".format(dic.items()))\n",
    "print(\"_\"*50)\n",
    "print(\"list(dic.keys())->{}\".format(list(dic.keys())))\n"
   ]
  },
  {
   "cell_type": "code",
   "execution_count": 81,
   "id": "4f7050b3-8046-44b1-a9cd-2645feee83a3",
   "metadata": {},
   "outputs": [
    {
     "name": "stdout",
     "output_type": "stream",
     "text": [
      "0 (0, [0, 1, 2, 3, 4])\n",
      "1 (1, [[151, 101, 107]])\n",
      "2 (3, (0.10284816248609963, 197.59725921851287))\n"
     ]
    }
   ],
   "source": [
    "for k,v in enumerate(dic.items()):\n",
    "    print(k,v)"
   ]
  },
  {
   "cell_type": "code",
   "execution_count": 83,
   "id": "850dddab-b90e-4cdb-b6f0-8875d1382e2c",
   "metadata": {},
   "outputs": [
    {
     "name": "stdout",
     "output_type": "stream",
     "text": [
      "lst_A=[2, 6, 10, 14, 18, 22, 26, 30, 34, 38, 42, 46],lst_B=[20, 35]\n"
     ]
    }
   ],
   "source": [
    "lst_A=list(range(2,50,4))\n",
    "lst_B=list(range(20,50,15))\n",
    "print(\"lst_A={},lst_B={}\".format(lst_A,lst_B))"
   ]
  },
  {
   "cell_type": "code",
   "execution_count": 84,
   "id": "2332b0ea-e87d-4c93-9caf-28901384a640",
   "metadata": {},
   "outputs": [
    {
     "name": "stdout",
     "output_type": "stream",
     "text": [
      "dic_2={0: [2, 6, 10, 14, 18, 22, 26, 30, 34, 38, 42, 46], 1: [20, 35]}\n"
     ]
    }
   ],
   "source": [
    "dic_2={0:lst_A,1:lst_B}\n",
    "print(\"dic_2={}\".format(dic_2))"
   ]
  },
  {
   "cell_type": "code",
   "execution_count": 85,
   "id": "87370306-f520-4bd1-8513-00587f2c3e2d",
   "metadata": {},
   "outputs": [
    {
     "name": "stdout",
     "output_type": "stream",
     "text": [
      "dic_assignment={0: [2, 6, 10, 14, 18, 22, 26, 30, 34, 38, 42, 46], 1: [20, 35]}\n"
     ]
    }
   ],
   "source": [
    "dic_assignment=dic_2\n",
    "print(\"dic_assignment={}\".format(dic_assignment))"
   ]
  },
  {
   "cell_type": "code",
   "execution_count": 86,
   "id": "e39caea8-a7d5-4ea3-8c20-826ae7da8e0a",
   "metadata": {},
   "outputs": [],
   "source": [
    "dic_2.clear()"
   ]
  },
  {
   "cell_type": "code",
   "execution_count": 87,
   "id": "148da6a2-8224-4592-a79e-f9aee734ad22",
   "metadata": {},
   "outputs": [
    {
     "name": "stdout",
     "output_type": "stream",
     "text": [
      "{}\n"
     ]
    }
   ],
   "source": [
    "print(dic_2)"
   ]
  },
  {
   "cell_type": "code",
   "execution_count": 88,
   "id": "aaa5a716-69bd-4ebd-a4b4-0e19be11c4b5",
   "metadata": {},
   "outputs": [
    {
     "name": "stdout",
     "output_type": "stream",
     "text": [
      "dic_2.clear()->{}\n",
      "dic_assignment={}\n"
     ]
    }
   ],
   "source": [
    "print(\"dic_2.clear()->{}\".format(dic_2))\n",
    "print(\"dic_assignment={}\".format(dic_assignment))"
   ]
  },
  {
   "cell_type": "code",
   "execution_count": 90,
   "id": "9fdde522-de87-4457-bc7e-53ed822ad261",
   "metadata": {},
   "outputs": [
    {
     "name": "stdout",
     "output_type": "stream",
     "text": [
      "dic_2[4]=list(range(4,12,2))->{5: [4, 6, 8, 10], 4: [4, 6, 8, 10]}\n"
     ]
    }
   ],
   "source": [
    "dic_2[4]=list(range(4,12,2))\n",
    "print(\"dic_2[4]=list(range(4,12,2))->{}\".format(dic_2))"
   ]
  },
  {
   "cell_type": "code",
   "execution_count": 91,
   "id": "3ee27bc3-2f07-4dcc-9e21-111dfd8b1aa2",
   "metadata": {},
   "outputs": [
    {
     "name": "stdout",
     "output_type": "stream",
     "text": [
      "dic_2[5]=list(range(4,12,2))->{5: [4, 6, 8, 10], 4: [4, 6, 8, 10]}\n"
     ]
    }
   ],
   "source": [
    "dic_2[5]=list(range(4,12,2))\n",
    "print(\"dic_2[5]=list(range(4,12,2))->{}\".format(dic_2))"
   ]
  },
  {
   "cell_type": "code",
   "execution_count": 92,
   "id": "fe41c6dc-34c4-448b-8dcb-b7c784cb095b",
   "metadata": {},
   "outputs": [
    {
     "name": "stdout",
     "output_type": "stream",
     "text": [
      "dic_copy=dic_2.copy()->{5: [4, 6, 8, 10], 4: [4, 6, 8, 10]}\n"
     ]
    }
   ],
   "source": [
    "dic_copy=dic_2.copy()\n",
    "print(\"dic_copy=dic_2.copy()->{}\".format(dic_copy))"
   ]
  },
  {
   "cell_type": "code",
   "execution_count": 93,
   "id": "0a96f42e-0b74-4854-9a2a-5428617fb2cd",
   "metadata": {},
   "outputs": [
    {
     "name": "stdout",
     "output_type": "stream",
     "text": [
      "dic_2[7]=[5,7]->{5: [4, 6, 8, 10], 4: [4, 6, 8, 10], 7: [5, 7]}\n",
      "dic_copy={5: [4, 6, 8, 10], 4: [4, 6, 8, 10]}\n"
     ]
    }
   ],
   "source": [
    "dic_2[7]=[5,7]\n",
    "print(\"dic_2[7]=[5,7]->{}\".format(dic_2))\n",
    "print(\"dic_copy={}\".format(dic_copy))"
   ]
  },
  {
   "cell_type": "code",
   "execution_count": 94,
   "id": "113ad727-4461-47cc-b691-46c62aff7191",
   "metadata": {},
   "outputs": [
    {
     "name": "stdout",
     "output_type": "stream",
     "text": [
      "{5: [4, 6, 8, 10], 4: [4, 6, 8, 10], 7: [5, 7]}\n"
     ]
    }
   ],
   "source": [
    "print(dic_2)"
   ]
  },
  {
   "cell_type": "code",
   "execution_count": 96,
   "id": "fd62c1b2-8b27-41b2-bad3-c33686630551",
   "metadata": {},
   "outputs": [
    {
     "name": "stdout",
     "output_type": "stream",
     "text": [
      "dic_copy[4].remove(4)->{5: [4, 6, 8, 10], 4: [6, 8, 10]}\n"
     ]
    }
   ],
   "source": [
    "dic_copy[4].remove(4)\n",
    "print(\"dic_copy[4].remove(4)->{}\".format(dic_copy))"
   ]
  },
  {
   "cell_type": "code",
   "execution_count": 97,
   "id": "3cca1e46-0d00-429d-8d53-7c9971c26c19",
   "metadata": {},
   "outputs": [
    {
     "data": {
      "text/plain": [
       "[20, 50]"
      ]
     },
     "execution_count": 97,
     "metadata": {},
     "output_type": "execute_result"
    }
   ],
   "source": [
    "dic_copy.setdefault(6,[20,50])"
   ]
  },
  {
   "cell_type": "code",
   "execution_count": 98,
   "id": "6a48433b-92e7-410c-bd1c-a250a517a240",
   "metadata": {},
   "outputs": [
    {
     "name": "stdout",
     "output_type": "stream",
     "text": [
      "dic_copy.setdefault(6,[20,50])->{5: [4, 6, 8, 10], 4: [6, 8, 10], 6: [20, 50]}\n"
     ]
    }
   ],
   "source": [
    "print(\"dic_copy.setdefault(6,[20,50])->{}\".format(dic_copy))"
   ]
  },
  {
   "cell_type": "code",
   "execution_count": 99,
   "id": "8cde9355-c1cb-4c49-ae4e-96c825e4169c",
   "metadata": {},
   "outputs": [
    {
     "data": {
      "text/plain": [
       "[4, 6, 8, 10]"
      ]
     },
     "execution_count": 99,
     "metadata": {},
     "output_type": "execute_result"
    }
   ],
   "source": [
    "dic_2.pop(5)"
   ]
  },
  {
   "cell_type": "code",
   "execution_count": 100,
   "id": "f399c809-f572-485a-bca2-8d27d85083c4",
   "metadata": {},
   "outputs": [
    {
     "name": "stdout",
     "output_type": "stream",
     "text": [
      "dic_2.pop(5)->{4: [6, 8, 10], 7: [5, 7]}\n",
      "dic_update={10: [5, 7, 6, 3, 2], 11: [3, 2, 33, 55, 66]}\n"
     ]
    }
   ],
   "source": [
    "print(\"dic_2.pop(5)->{}\".format(dic_2))\n",
    "dic_update={10:[5,7,6,3,2],11:[3,2,33,55,66]}\n",
    "print(\"dic_update={}\".format(dic_update))"
   ]
  },
  {
   "cell_type": "code",
   "execution_count": 101,
   "id": "5c4eb700-25d5-497a-8f07-9674d09af0c0",
   "metadata": {},
   "outputs": [],
   "source": [
    "dic_2.update(dic_update)"
   ]
  },
  {
   "cell_type": "code",
   "execution_count": 102,
   "id": "586ce395-0943-4372-850a-eea7e766f7c5",
   "metadata": {},
   "outputs": [
    {
     "name": "stdout",
     "output_type": "stream",
     "text": [
      "dic_2.update(dic_update->{4: [6, 8, 10], 7: [5, 7], 10: [5, 7, 6, 3, 2], 11: [3, 2, 33, 55, 66]}\n",
      "dic_2.get(11)->[3, 2, 33, 55, 66]\n"
     ]
    }
   ],
   "source": [
    "print(\"dic_2.update(dic_update->{}\".format(dic_2))\n",
    "print(\"dic_2.get(11)->{}\".format(dic_2.get(11)))"
   ]
  },
  {
   "cell_type": "code",
   "execution_count": 103,
   "id": "127b5665-1907-4b43-9284-d89b121a05c3",
   "metadata": {},
   "outputs": [
    {
     "data": {
      "text/plain": [
       "(11, [3, 2, 33, 55, 66])"
      ]
     },
     "execution_count": 103,
     "metadata": {},
     "output_type": "execute_result"
    }
   ],
   "source": [
    "dic_2.popitem()"
   ]
  },
  {
   "cell_type": "code",
   "execution_count": 104,
   "id": "1777f441-3ea4-493b-a53c-09c6736a7d79",
   "metadata": {},
   "outputs": [
    {
     "name": "stdout",
     "output_type": "stream",
     "text": [
      "dic_2.popitem()->{4: [6, 8, 10], 7: [5, 7], 10: [5, 7, 6, 3, 2]}\n"
     ]
    }
   ],
   "source": [
    "print(\"dic_2.popitem()->{}\".format(dic_2))"
   ]
  },
  {
   "cell_type": "code",
   "execution_count": 105,
   "id": "466003bd-47ba-4d7a-8058-7b3c2ff233f1",
   "metadata": {},
   "outputs": [],
   "source": [
    "dic_3={}.fromkeys([0,1,2,3,4,'A'])"
   ]
  },
  {
   "cell_type": "code",
   "execution_count": 106,
   "id": "4593fed5-0133-49c6-b8f5-146859dc837a",
   "metadata": {},
   "outputs": [
    {
     "name": "stdout",
     "output_type": "stream",
     "text": [
      "dic_3={}.fromkeys([0,1,2,3,4,'A'])->{0: None, 1: None, 2: None, 3: None, 4: None, 'A': None}\n"
     ]
    }
   ],
   "source": [
    "print(\"dic_3={}\"+\".fromkeys([0,1,2,3,4,'A'])->{}\".format(dic_3))"
   ]
  },
  {
   "cell_type": "code",
   "execution_count": 107,
   "id": "ab330a5e-9cc6-47e4-a45a-dd19f60c3d51",
   "metadata": {},
   "outputs": [
    {
     "data": {
      "text/plain": [
       "{0: [0, 1, 2, 3, 4],\n",
       " 1: [[151, 101, 107]],\n",
       " 3: (0.10284816248609963, 197.59725921851287)}"
      ]
     },
     "execution_count": 107,
     "metadata": {},
     "output_type": "execute_result"
    }
   ],
   "source": [
    "dic"
   ]
  },
  {
   "cell_type": "code",
   "execution_count": 108,
   "id": "25a508e3-088b-40b5-9660-df538a0bb313",
   "metadata": {},
   "outputs": [
    {
     "name": "stdout",
     "output_type": "stream",
     "text": [
      "{0: [0, 1, 2, 3, 4], 1: [[151, 101, 107]], 3: (0.10284816248609963, 197.59725921851287)}\n"
     ]
    }
   ],
   "source": [
    "print(dic)"
   ]
  },
  {
   "cell_type": "code",
   "execution_count": 109,
   "id": "be313f77-dcb2-48fe-92ca-b93274ae2ab3",
   "metadata": {},
   "outputs": [
    {
     "data": {
      "text/plain": [
       "{0: None, 1: None, 2: None, 3: None, 4: None, 'A': None}"
      ]
     },
     "execution_count": 109,
     "metadata": {},
     "output_type": "execute_result"
    }
   ],
   "source": [
    "dic_3"
   ]
  },
  {
   "cell_type": "code",
   "execution_count": 112,
   "id": "247dcbab-d804-4b97-aad3-a435b263d3d6",
   "metadata": {},
   "outputs": [
    {
     "data": {
      "text/plain": [
       "{4: [6, 8, 10], 7: [5, 7], 10: [5, 7, 6, 3, 2]}"
      ]
     },
     "execution_count": 112,
     "metadata": {},
     "output_type": "execute_result"
    }
   ],
   "source": [
    "dic_2"
   ]
  },
  {
   "cell_type": "code",
   "execution_count": 113,
   "id": "18a125b2-77f1-43fa-95d6-3abb23fcf3e4",
   "metadata": {},
   "outputs": [],
   "source": [
    "lst_s_3=list(\"Python 好难的!\")"
   ]
  },
  {
   "cell_type": "code",
   "execution_count": 114,
   "id": "c2103f07-56ed-4a8e-b289-1db77f31478e",
   "metadata": {},
   "outputs": [
    {
     "name": "stdout",
     "output_type": "stream",
     "text": [
      "lst_s_3=list(\"Hello 好难的!\")->['P', 'y', 't', 'h', 'o', 'n', ' ', '好', '难', '的', '!']\n"
     ]
    }
   ],
   "source": [
    "print(\"lst_s_3=list(\\\"Hello 好难的!\\\")->{}\".format(lst_s_3))"
   ]
  },
  {
   "cell_type": "code",
   "execution_count": 122,
   "id": "f52738f8-d5b5-480d-82b3-e6f38a2ba26e",
   "metadata": {},
   "outputs": [
    {
     "name": "stdout",
     "output_type": "stream",
     "text": [
      "\"Python\"+\" 好难的!\"->Hellow 好难的!\n",
      "\"+\".join(str(3.1415926))->3+.+1+4+1+5+9+2+6\n",
      "len(\"Python 好难的!\")->11\n",
      "coordinates.split(\",\")->['120.132007', '30.300508', '9.7']\n",
      "eval(coordinates)->(120.132007, 30.300508, 9.7)\n",
      "\"Python 好难的!\".lower()->python 好难的!\n",
      "\"Python 好难的!\".upper()->PYTHON 好难的!\n",
      "\"Python 好难的!\"[6:]-> 好难的!\n",
      "\"    Python 好难的!    \".strip()->Python 好难的!\n",
      "\"Python 好难的!\".replace(\"好难的\",\"还是好难\")->还是好难 好难的!\n",
      "hello_lst.sort()>[' ', '!', 'P', 'h', 'n', 'o', 't', 'y', '好', '的', '难']\n",
      "\"Python 好难的!\".find(\"好\")->7\n"
     ]
    }
   ],
   "source": [
    "print(\"\\\"Python\\\"+\\\" 好难的!\\\"->{}\".format(\"Hellow\"+\" 好难的!\"))\n",
    "print(\"\\\"+\\\".join(str(3.1415926))->{}\".format(\"+\".join(str(3.1415926))))\n",
    "print(\"len(\\\"Python 好难的!\\\")->{}\".format(len(\"Python 好难的!\")))\n",
    "coordinates=\"120.132007,30.300508,9.7\"\n",
    "print(\"coordinates.split(\\\",\\\")->{}\".format(coordinates.split(\",\")))\n",
    "print(\"eval(coordinates)->{}\".format(eval(coordinates)))\n",
    "print(\"\\\"Python 好难的!\\\".lower()->{}\".format(\"Python 好难的!\".lower()))\n",
    "print(\"\\\"Python 好难的!\\\".upper()->{}\".format(\"Python 好难的!\".upper()))\n",
    "print(\"\\\"Python 好难的!\\\"[6:]->{}\".format(\"Python 好难的!\"[6:]))\n",
    "print(\"\\\"    Python 好难的!    \\\".strip()->{}\".format(\"    Python 好难的!    \".strip()))\n",
    "print(\"\\\"Python 好难的!\\\".replace(\\\"好难的\\\",\\\"还是好难\\\")->{}\".format(\"Python 好难的!\".replace(\"Python\",\"还是好难\")))\n",
    "hello_lst=list(\"Python 好难的!\")\n",
    "hello_lst.sort()\n",
    "print(\"hello_lst.sort()>{}\".format(hello_lst))\n",
    "print(\"\\\"Python 好难的!\\\".find(\\\"好\\\")->{}\".format(\"Python 好难的n!\".find(\"好\")))"
   ]
  },
  {
   "cell_type": "code",
   "execution_count": 121,
   "id": "21087d8c-45f6-4566-a0d1-2508d6f1cd3e",
   "metadata": {},
   "outputs": [
    {
     "name": "stdout",
     "output_type": "stream",
     "text": [
      "\"Python\"+\" 好难的!\"->Hellow 好难的!\n",
      "\"+\".join(str(3.1415926))->3+.+1+4+1+5+9+2+6\n",
      "len(\"Python 好难的!\")->11\n",
      "coordinates.split(\",\")->['120.132007', '30.300508', '9.7']\n",
      "eval(coordinates)->(120.132007, 30.300508, 9.7)\n",
      "\"Python 好难的!\".lower()->python 好难的!\n",
      "\"Python 好难的!\".upper()->PYTHON 好难的!\n",
      "\"Python 好难的!\"[6:]-> 好难的!\n",
      "\"    Python 好难的!    \".strip()->Python 好难的!\n",
      "\"Python 好难的!\".replace(\"好难的\",\"还是好难\")->还是好难 好难的!\n",
      "hello_lst.sort()>[' ', '!', 'P', 'h', 'n', 'o', 't', 'y', '好', '的', '难']\n",
      "\"Python 好难的!\".find(\"的\")->9\n"
     ]
    }
   ],
   "source": [
    "print(\"\\\"Python\\\"+\\\" 好难的!\\\"->{}\".format(\"Hellow\"+\" 好难的!\"))\n",
    "print(\"\\\"+\\\".join(str(3.1415926))->{}\".format(\"+\".join(str(3.1415926))))\n",
    "print(\"len(\\\"Python 好难的!\\\")->{}\".format(len(\"Python 好难的!\")))\n",
    "coordinates=\"120.132007,30.300508,9.7\"\n",
    "print(\"coordinates.split(\\\",\\\")->{}\".format(coordinates.split(\",\")))\n",
    "print(\"eval(coordinates)->{}\".format(eval(coordinates)))\n",
    "print(\"\\\"Python 好难的!\\\".lower()->{}\".format(\"Python 好难的!\".lower()))\n",
    "print(\"\\\"Python 好难的!\\\".upper()->{}\".format(\"Python 好难的!\".upper()))\n",
    "print(\"\\\"Python 好难的!\\\"[6:]->{}\".format(\"Python 好难的!\"[6:]))\n",
    "print(\"\\\"    Python 好难的!    \\\".strip()->{}\".format(\"    Python 好难的!    \".strip()))\n",
    "print(\"\\\"Python 好难的!\\\".replace(\\\"好难的\\\",\\\"还是好难\\\")->{}\".format(\"Python 好难的!\".replace(\"Python\",\"还是好难\")))\n",
    "hello_lst=list(\"Python 好难的!\")\n",
    "hello_lst.sort()\n",
    "print(\"hello_lst.sort()>{}\".format(hello_lst))\n",
    "print(\"\\\"Python 好难的!\\\".find(\\\"的\\\")->{}\".format(\"Python 好难的n!\".find(\"的\")))"
   ]
  },
  {
   "cell_type": "code",
   "execution_count": 123,
   "id": "c5776207-2573-4a64-842a-877ba51f6b6b",
   "metadata": {},
   "outputs": [
    {
     "data": {
      "text/plain": [
       "<function print>"
      ]
     },
     "execution_count": 123,
     "metadata": {},
     "output_type": "execute_result"
    }
   ],
   "source": [
    "print"
   ]
  },
  {
   "cell_type": "code",
   "execution_count": 124,
   "id": "d3b42207-afd1-431e-9624-a6ec5bbc3237",
   "metadata": {},
   "outputs": [
    {
     "name": "stdout",
     "output_type": "stream",
     "text": [
      "new_str=format_str % values->Python,好难 and 还是好难!\n"
     ]
    }
   ],
   "source": [
    "format_str=\"Python,%s and %s!\"\n",
    "values=(\"好难\",\"还是好难\")\n",
    "new_str=format_str % values\n",
    "print(\"new_str=format_str % values->{}\".format(new_str))"
   ]
  },
  {
   "cell_type": "code",
   "execution_count": 125,
   "id": "7c016217-b31b-4055-84f5-c4f0dd720603",
   "metadata": {},
   "outputs": [
    {
     "name": "stdout",
     "output_type": "stream",
     "text": [
      "new_str_2=format_str_2 % (pi,3.1415926)->Pi with three decimals:3.142,and enter a value with percent sign:3.14 %\n"
     ]
    }
   ],
   "source": [
    "format_str_2=\"Pi with three decimals:%.3f,and enter a value with percent sign:%.2f %%\" \n",
    "\n",
    "from math import pi\n",
    "new_str_2=format_str_2 % (pi,3.1415926)\n",
    "print(\"new_str_2=format_str_2 % (pi,3.1415926)->{}\".format(new_str_2))"
   ]
  },
  {
   "cell_type": "code",
   "execution_count": 127,
   "id": "f44b1ab5-f4d0-477c-a006-df12be0bd231",
   "metadata": {},
   "outputs": [
    {
     "name": "stdout",
     "output_type": "stream",
     "text": [
      "new_str_3=format_str_3 % (pi,5.131415)->Pi with three decimals:3.142,and enter a value with percent sign:5.13 %\n"
     ]
    }
   ],
   "source": [
    "format_str_3=\"Pi with three decimals:%.3f,and enter a value with percent sign:%.2f %%\"\n",
    "from math import pi\n",
    "new_str_3=format_str_3 % (pi,5.131415)\n",
    "print(\"new_str_3=format_str_3 % (pi,5.131415)->{}\".format(new_str_3))"
   ]
  },
  {
   "cell_type": "code",
   "execution_count": 128,
   "id": "e1029567-e558-4265-aef9-a0ca0fecbcf3",
   "metadata": {},
   "outputs": [
    {
     "name": "stdout",
     "output_type": "stream",
     "text": [
      "  3.141593,      3.14,3.14,Hello,Hello,52,34,3.141593\n"
     ]
    }
   ],
   "source": [
    "format_str_4=\"%10f,%10.2f,%.2f,%.5s,%.*s,%d,%x,%f\"\n",
    "new_str_4=format_str_4%(pi,pi,pi,\"Hello Python!\",5,\"Hello Python!\",52,52,pi)\n",
    "print(\"{}\".format(new_str_4))"
   ]
  },
  {
   "cell_type": "code",
   "execution_count": 129,
   "id": "fdd07b18-6ae0-42f7-9564-084037941d05",
   "metadata": {},
   "outputs": [
    {
     "name": "stdout",
     "output_type": "stream",
     "text": [
      "   3.141593,      3.14,3.14,Hello,Hello,52,34,3.141593\n"
     ]
    }
   ],
   "source": [
    "format_str_3=\"%11f,%10.2f,%.2f,%.5s,%.*s,%d,%x,%f\"\n",
    "new_str_3=format_str_3%(pi,pi,pi,\"Hello Python!\",5,\"Hello Python!\",52,52,pi)\n",
    "print(\"{}\".format(new_str_3))"
   ]
  },
  {
   "cell_type": "code",
   "execution_count": 130,
   "id": "cbcc4e93-2e2c-4828-a703-47bb85d031f8",
   "metadata": {},
   "outputs": [
    {
     "name": "stdout",
     "output_type": "stream",
     "text": [
      "                                                                                            3.141593,      3.14,3.14,Hello,Hello,52,34,3.141593\n"
     ]
    }
   ],
   "source": [
    "format_str_3=\"%100f,%10.2f,%.2f,%.5s,%.*s,%d,%x,%f\"\n",
    "new_str_3=format_str_3%(pi,pi,pi,\"Hello Python!\",5,\"Hello Python!\",52,52,pi)\n",
    "print(\"{}\".format(new_str_3))"
   ]
  },
  {
   "cell_type": "code",
   "execution_count": 131,
   "id": "44e40306-631e-4d5a-be41-6510d6265c82",
   "metadata": {},
   "outputs": [
    {
     "name": "stdout",
     "output_type": "stream",
     "text": [
      "  3.141593,      3.14,3.14,好难!,Hello,52,34,3.141593\n"
     ]
    }
   ],
   "source": [
    "format_str_3=\"%10f,%10.2f,%.2f,%.5s,%.*s,%d,%x,%f\"\n",
    "new_str_3=format_str_3%(pi,pi,pi,\"好难!\",5,\"Hello Python!\",52,52,pi)\n",
    "print(\"{}\".format(new_str_3))"
   ]
  },
  {
   "cell_type": "code",
   "execution_count": 132,
   "id": "aaef8c82-ff0a-4e7f-b962-76c581e3a5d8",
   "metadata": {},
   "outputs": [
    {
     "name": "stdout",
     "output_type": "stream",
     "text": [
      "  3.141593,      3.14,3.14159265358979311600,Hello,Hello,52,34,3.141593\n"
     ]
    }
   ],
   "source": [
    "format_str_3=\"%10f,%10.2f,%.20f,%.5s,%.*s,%d,%x,%f\"\n",
    "new_str_3=format_str_3%(pi,pi,pi,\"Hello Python!\",5,\"Hello Python!\",52,52,pi)\n",
    "print(\"{}\".format(new_str_3))"
   ]
  },
  {
   "cell_type": "code",
   "execution_count": 133,
   "id": "b3d4f091-0107-4e7b-bed9-d81876cc9e80",
   "metadata": {},
   "outputs": [
    {
     "name": "stdout",
     "output_type": "stream",
     "text": [
      "3.141593,3.14,3.14,？？？!,？？？!,52,34,3.141593\n"
     ]
    }
   ],
   "source": [
    "format_str_3=\"%f,%0.2f,%.2f,%.4s,%.*s,%d,%x,%f\"\n",
    "new_str_3=format_str_3%(pi,pi,pi,\"？？？!\",5,\"？？？!\",52,52,pi)\n",
    "print(\"{}\".format(new_str_3))"
   ]
  },
  {
   "cell_type": "code",
   "execution_count": 134,
   "id": "bd9ab119-ceef-45a9-a166-c61901ac4947",
   "metadata": {},
   "outputs": [
    {
     "name": "stdout",
     "output_type": "stream",
     "text": [
      "  3.141593,      3.14,3.14,Hello,Hello,52,a,3.141593\n"
     ]
    }
   ],
   "source": [
    "format_str_3=\"%10f,%10.2f,%.2f,%.5s,%.*s,%d,%x,%f\"\n",
    "new_str_3=format_str_3%(pi,pi,pi,\"Hello Python!\",5,\"Hello Python!\",52,10,pi)\n",
    "print(\"{}\".format(new_str_3))"
   ]
  },
  {
   "cell_type": "code",
   "execution_count": 137,
   "id": "4681bd28-b8a8-41c5-bcb8-9bfeebe6b233",
   "metadata": {},
   "outputs": [
    {
     "name": "stdout",
     "output_type": "stream",
     "text": [
      "s_1=s_template_1.substitute(x=\"阿巴阿巴\")->阿巴阿巴,阿巴阿巴,阿巴阿巴!\n",
      "s_2=s_template_2.substitute(x=\"这是x\")->这是x这是什么!\n",
      "substitute_dict={'x': '阿巴阿巴', 'y': '这是什么'}\n",
      "s_3=s_template_3.substitute(substitute_dict)->阿巴阿巴 and 这是什么 are both 啊妹zing!\n"
     ]
    }
   ],
   "source": [
    "from string import Template\n",
    "s_template_1=Template(\"$x,阿巴阿巴,$x!\")\n",
    "s_1=s_template_1.substitute(x=\"阿巴阿巴\")\n",
    "print(\"s_1=s_template_1.substitute(x=\\\"阿巴阿巴\\\")->{}\".format(s_1))\n",
    "s_template_2=Template(\"${x}这是什么!\")\n",
    "s_2=s_template_2.substitute(x=\"这是x\")\n",
    "print(\"s_2=s_template_2.substitute(x=\\\"这是x\\\")->{}\".format(s_2))\n",
    "s_template_3=Template(\"$x and $y are both 啊妹zing!\")\n",
    "substitute_dict=dict([('x','阿巴阿巴'),('y','这是什么')])\n",
    "print(\"substitute_dict={}\".format(substitute_dict))\n",
    "s_3=s_template_3.substitute(substitute_dict)\n",
    "print(\"s_3=s_template_3.substitute(substitute_dict)->{}\".format(s_3))"
   ]
  },
  {
   "cell_type": "code",
   "execution_count": 138,
   "id": "a39050d4-3ff0-473e-96ca-66762df4a8aa",
   "metadata": {},
   "outputs": [],
   "source": [
    "import re"
   ]
  },
  {
   "cell_type": "code",
   "execution_count": 139,
   "id": "57f31b25-0d6f-4528-85cc-451125bffb11",
   "metadata": {},
   "outputs": [],
   "source": [
    "pattern_1='Python'"
   ]
  },
  {
   "cell_type": "code",
   "execution_count": 141,
   "id": "2e0fdbdb-ad22-42f5-96c8-5808157acb58",
   "metadata": {},
   "outputs": [
    {
     "name": "stdout",
     "output_type": "stream",
     "text": [
      "re.findall(pattern_1,text)->['Python']\n",
      "re.findall(pattern_2,text)->[]\n"
     ]
    }
   ],
   "source": [
    "text=\"哈喽 Python!\"\n",
    "print(\"re.findall(pattern_1,text)->{}\".format(re.findall(pattern_1,text)))\n",
    "pattern_2='python'\n",
    "print(\"re.findall(pattern_2,text)->{}\".format(re.findall(pattern_2,text)))"
   ]
  },
  {
   "cell_type": "code",
   "execution_count": 142,
   "id": "f2cb1b7a-201d-4241-80e4-8351cf0741db",
   "metadata": {},
   "outputs": [
    {
     "name": "stdout",
     "output_type": "stream",
     "text": [
      "re.findall(pattern_1,text)->['Python']\n",
      "re.findall(pattern_2,text)->['python']\n"
     ]
    }
   ],
   "source": [
    "text=\"python Python!\"\n",
    "print(\"re.findall(pattern_1,text)->{}\".format(re.findall(pattern_1,text)))\n",
    "pattern_2='python'\n",
    "print(\"re.findall(pattern_2,text)->{}\".format(re.findall(pattern_2,text)))"
   ]
  },
  {
   "cell_type": "code",
   "execution_count": 143,
   "id": "258d4146-6b38-4cdf-8550-e35af555b271",
   "metadata": {},
   "outputs": [
    {
     "name": "stdout",
     "output_type": "stream",
     "text": [
      "re.findall(pattern_1,text)->['Python']\n",
      "re.findall(pattern_2,text)->[]\n"
     ]
    }
   ],
   "source": [
    "text=\"a Python!\"\n",
    "print(\"re.findall(pattern_1,text)->{}\".format(re.findall(pattern_1,text)))\n",
    "pattern_2='python'\n",
    "print(\"re.findall(pattern_2,text)->{}\".format(re.findall(pattern_2,text)))"
   ]
  },
  {
   "cell_type": "code",
   "execution_count": 144,
   "id": "06f3ecef-6245-4031-b7a8-5f09def66364",
   "metadata": {},
   "outputs": [
    {
     "name": "stdout",
     "output_type": "stream",
     "text": [
      "re.findall('.ython','Hello Python!')->['Python']\n",
      "re.findall('.ython','Hello gython!')->['gython']\n",
      "re.findall('.ython','Hello gPython!')->['Python']\n",
      "re.findall('.ython','Hello Pthon!')->[]\n"
     ]
    }
   ],
   "source": [
    "print(\"re.findall('.ython','Hello Python!')->{}\".format(re.findall('.ython','Hello Python!')))\n",
    "print(\"re.findall('.ython','Hello gython!')->{}\".format(re.findall('.ython','Hello gython!')))\n",
    "print(\"re.findall('.ython','Hello gPython!')->{}\".format(re.findall('.ython','Hello gPython!')))\n",
    "print(\"re.findall('.ython','Hello Pthon!')->{}\".format(re.findall('.ython','Hello Pthon!')))"
   ]
  },
  {
   "cell_type": "code",
   "execution_count": 145,
   "id": "7b886e70-bf6b-4a3b-8c5c-53045d0b4daa",
   "metadata": {},
   "outputs": [
    {
     "name": "stdout",
     "output_type": "stream",
     "text": [
      "re.findall('.lo','Hello Python!')->['llo']\n",
      "re.findall('.o','Hello gython!')->['lo', 'ho']\n",
      "re.findall('.on','Hello gPython!')->['hon']\n",
      "re.findall('.thon','Hello Pthon!')->['Pthon']\n"
     ]
    }
   ],
   "source": [
    "print(\"re.findall('.lo','Hello Python!')->{}\".format(re.findall('.lo','Hello Python!')))\n",
    "print(\"re.findall('.o','Hello gython!')->{}\".format(re.findall('.o','Hello gython!')))\n",
    "print(\"re.findall('.on','Hello gPython!')->{}\".format(re.findall('.on','Hello gPython!')))\n",
    "print(\"re.findall('.thon','Hello Pthon!')->{}\".format(re.findall('.thon','Hello Pthon!')))"
   ]
  },
  {
   "cell_type": "code",
   "execution_count": 146,
   "id": "53afa8d1-f4a0-4eee-bd74-3e9f7751668c",
   "metadata": {},
   "outputs": [
    {
     "name": "stdout",
     "output_type": "stream",
     "text": [
      "re.findall(':lo','Hello Python!')->['llo']\n",
      "re.findall('.o','Hello gython!')->['lo', 'ho']\n",
      "re.findall('.on','Hello gPython!')->['hon']\n",
      "re.findall('.thon','Hello Pthon!')->['Pthon']\n"
     ]
    }
   ],
   "source": [
    "print(\"re.findall(':lo','Hello Python!')->{}\".format(re.findall('.lo','Hello Python!')))\n",
    "print(\"re.findall('.o','Hello gython!')->{}\".format(re.findall('.o','Hello gython!')))\n",
    "print(\"re.findall('.on','Hello gPython!')->{}\".format(re.findall('.on','Hello gPython!')))\n",
    "print(\"re.findall('.thon','Hello Pthon!')->{}\".format(re.findall('.thon','Hello Pthon!')))"
   ]
  },
  {
   "cell_type": "code",
   "execution_count": 147,
   "id": "92fb7223-779d-4314-8876-9a2ffe4f71a3",
   "metadata": {},
   "outputs": [
    {
     "name": "stdout",
     "output_type": "stream",
     "text": [
      "re.findall('..lo','Hello Python!')->['llo']\n",
      "re.findall('.o','Hello gython!')->['lo', 'ho']\n",
      "re.findall('.on','Hello gPython!')->['hon']\n",
      "re.findall('.thon','Hello Pthon!')->['Pthon']\n"
     ]
    }
   ],
   "source": [
    "print(\"re.findall('..lo','Hello Python!')->{}\".format(re.findall('.lo','Hello Python!')))\n",
    "print(\"re.findall('.o','Hello gython!')->{}\".format(re.findall('.o','Hello gython!')))\n",
    "print(\"re.findall('.on','Hello gPython!')->{}\".format(re.findall('.on','Hello gPython!')))\n",
    "print(\"re.findall('.thon','Hello Pthon!')->{}\".format(re.findall('.thon','Hello Pthon!')))"
   ]
  },
  {
   "cell_type": "code",
   "execution_count": 148,
   "id": "5c5041cc-e04b-4a5a-a266-cf007945249c",
   "metadata": {},
   "outputs": [
    {
     "name": "stdout",
     "output_type": "stream",
     "text": [
      "re.findall('.','Hello Python!')->['llo']\n",
      "re.findall('.o','Hello gython!')->['lo', 'ho']\n",
      "re.findall('.on','Hello gPython!')->['hon']\n",
      "re.findall('.thon','Hello Pthon!')->['Pthon']\n"
     ]
    }
   ],
   "source": [
    "print(\"re.findall('.','Hello Python!')->{}\".format(re.findall('.lo','Hello Python!')))\n",
    "print(\"re.findall('.o','Hello gython!')->{}\".format(re.findall('.o','Hello gython!')))\n",
    "print(\"re.findall('.on','Hello gPython!')->{}\".format(re.findall('.on','Hello gPython!')))\n",
    "print(\"re.findall('.thon','Hello Pthon!')->{}\".format(re.findall('.thon','Hello Pthon!')))"
   ]
  },
  {
   "cell_type": "code",
   "execution_count": 149,
   "id": "8948098f-2925-4a2f-a9d1-e15316588e1f",
   "metadata": {},
   "outputs": [
    {
     "name": "stdout",
     "output_type": "stream",
     "text": [
      "re.findall('.','Hello Python!')->['H', 'e', 'l', 'l', 'o', ' ', 'P', 'y', 't', 'h', 'o', 'n', '!']\n",
      "re.findall('.o','Hello gython!')->['lo', 'ho']\n",
      "re.findall('.on','Hello gPython!')->['hon']\n",
      "re.findall('.thon','Hello Pthon!')->['Pthon']\n"
     ]
    }
   ],
   "source": [
    "print(\"re.findall('.','Hello Python!')->{}\".format(re.findall('.','Hello Python!')))\n",
    "print(\"re.findall('.o','Hello gython!')->{}\".format(re.findall('.o','Hello gython!')))\n",
    "print(\"re.findall('.on','Hello gPython!')->{}\".format(re.findall('.on','Hello gPython!')))\n",
    "print(\"re.findall('.thon','Hello Pthon!')->{}\".format(re.findall('.thon','Hello Pthon!')))"
   ]
  },
  {
   "cell_type": "code",
   "execution_count": 150,
   "id": "595e5988-241a-4fc5-b1eb-9b4aa9e26fec",
   "metadata": {},
   "outputs": [
    {
     "name": "stdout",
     "output_type": "stream",
     "text": [
      "re.findall(':lo','Hello Python!')->[]\n",
      "re.findall('.o','Hello gython!')->['lo', 'ho']\n",
      "re.findall('.on','Hello gPython!')->['hon']\n",
      "re.findall('.thon','Hello Pthon!')->['Pthon']\n"
     ]
    }
   ],
   "source": [
    "print(\"re.findall(':lo','Hello Python!')->{}\".format(re.findall(':lo','Hello Python!')))\n",
    "print(\"re.findall('.o','Hello gython!')->{}\".format(re.findall('.o','Hello gython!')))\n",
    "print(\"re.findall('.on','Hello gPython!')->{}\".format(re.findall('.on','Hello gPython!')))\n",
    "print(\"re.findall('.thon','Hello Pthon!')->{}\".format(re.findall('.thon','Hello Pthon!')))"
   ]
  },
  {
   "cell_type": "code",
   "execution_count": 151,
   "id": "b4a26c17-4d92-42ef-bfd4-263345839e04",
   "metadata": {},
   "outputs": [
    {
     "name": "stdout",
     "output_type": "stream",
     "text": [
      "re.findall('..lo','Hello Python!')->['ello']\n",
      "re.findall('.o','Hello gython!')->['lo', 'ho']\n",
      "re.findall('.on','Hello gPython!')->['hon']\n",
      "re.findall('.thon','Hello Pthon!')->['Pthon']\n"
     ]
    }
   ],
   "source": [
    "print(\"re.findall('..lo','Hello Python!')->{}\".format(re.findall('..lo','Hello Python!')))\n",
    "print(\"re.findall('.o','Hello gython!')->{}\".format(re.findall('.o','Hello gython!')))\n",
    "print(\"re.findall('.on','Hello gPython!')->{}\".format(re.findall('.on','Hello gPython!')))\n",
    "print(\"re.findall('.thon','Hello Pthon!')->{}\".format(re.findall('.thon','Hello Pthon!')))"
   ]
  },
  {
   "cell_type": "code",
   "execution_count": 152,
   "id": "1d74f85a-2eed-4a2b-b654-0ee708c140af",
   "metadata": {},
   "outputs": [
    {
     "name": "stdout",
     "output_type": "stream",
     "text": [
      "re.findall(r'w?cadesign\\.cn,w+\\.cadesign\\.cn','cadesign.cn,www.cadesign.cn')->['cadesign.cn,www.cadesign.cn']\n",
      "re.findall(r'w{2}\\.cadesign\\.cn','www.cadesign.cn')->['ww.cadesign.cn']\n",
      "re.findall(r'w{1,3}\\.cadesign\\.cn','www.cadesign.cn')->['www.cadesign.cn']\n"
     ]
    }
   ],
   "source": [
    "print(\"re.findall(r'w?cadesign\\.cn,w+\\.cadesign\\.cn','cadesign.cn,www.cadesign.cn')->{}\".format(re.findall(r'w?cadesign\\.cn,w+\\.cadesign\\.cn','cadesign.cn,www.cadesign.cn')))\n",
    "print(\"re.findall(r'w{2}\"+\"\\.cadesign\\.cn','www.cadesign.cn')->{}\".format(re.findall(r'w{2}\\.cadesign\\.cn','www.cadesign.cn')))\n",
    "print(\"re.findall(r'w{1,3}\"+\"\\.cadesign\\.cn','www.cadesign.cn')->{}\".format(re.findall(r'w{1,3}\\.cadesign\\.cn','www.cadesign.cn')))"
   ]
  },
  {
   "cell_type": "code",
   "execution_count": 153,
   "id": "c82ae33b-e701-43a8-9ded-7402ce804371",
   "metadata": {},
   "outputs": [
    {
     "name": "stdout",
     "output_type": "stream",
     "text": [
      "re.findall(r'w{2}\\.cadesign\\.cn','www.cadesign.cn')->['ww.cadesign.cn']\n"
     ]
    }
   ],
   "source": [
    "print(\"re.findall(r'w{2}\"+\"\\.cadesign\\.cn','www.cadesign.cn')->{}\".format(re.findall(r'w{2}\\.cadesign\\.cn','www.cadesign.cn')))"
   ]
  },
  {
   "cell_type": "code",
   "execution_count": 155,
   "id": "f342d431-1562-4b97-9803-d6352484db9b",
   "metadata": {},
   "outputs": [
    {
     "name": "stdout",
     "output_type": "stream",
     "text": [
      "re.findall(r'w{3}\\.cadesign\\.cn','www.cadesign.cn')->['www.cadesign.cn']\n"
     ]
    }
   ],
   "source": [
    "print(\"re.findall(r'w{3}\"+\"\\.cadesign\\.cn','www.cadesign.cn')->{}\".format(re.findall(r'w{3}\\.cadesign\\.cn','www.cadesign.cn')))"
   ]
  },
  {
   "cell_type": "code",
   "execution_count": 156,
   "id": "9e3f2553-a43e-4d21-b108-f6c0a111587e",
   "metadata": {},
   "outputs": [
    {
     "name": "stdout",
     "output_type": "stream",
     "text": [
      "re.findall(r'w{3}\\.baidu\\.com','www.baidu.com')->['www.baidu.com']\n"
     ]
    }
   ],
   "source": [
    "print(\"re.findall(r'w{3}\"+\"\\.baidu\\.com','www.baidu.com')->{}\".format(re.findall(r'w{3}\\.baidu\\.com','www.baidu.com')))"
   ]
  },
  {
   "cell_type": "code",
   "execution_count": 157,
   "id": "fb95f47b-edae-4ca9-8fdc-af100bd9f0b6",
   "metadata": {},
   "outputs": [
    {
     "name": "stdout",
     "output_type": "stream",
     "text": [
      "re.findall('[Py]*thon!','Hello Python!')->['Python!']\n",
      "re.findall('[Py]*thon!','Hello Pthon!')->['Pthon!']\n",
      "re.findall('[Py]*thon!','Hello ython!')->['ython!']\n",
      "re.findall('[Py]*thon!','Hello ython!')->['thon!']\n"
     ]
    }
   ],
   "source": [
    "print(\"re.findall('[Py]*thon!','Hello Python!')->{}\".format(re.findall('[Py]*thon!','Hello Python!')))\n",
    "print(\"re.findall('[Py]*thon!','Hello Pthon!')->{}\".format(re.findall('[Py]*thon!','Hello Pthon!')))\n",
    "print(\"re.findall('[Py]*thon!','Hello ython!')->{}\".format(re.findall('[Py]*thon!','Hello ython!')))\n",
    "print(\"re.findall('[Py]*thon!','Hello ython!')->{}\".format(re.findall('[Py]*thon!','Hello thon!')))"
   ]
  },
  {
   "cell_type": "code",
   "execution_count": 158,
   "id": "04758944-b23e-4da4-923e-f57cf5d03d33",
   "metadata": {},
   "outputs": [
    {
     "name": "stdout",
     "output_type": "stream",
     "text": [
      "re.findall('[P]*thon!','Hello Python!')->['Python!']\n"
     ]
    }
   ],
   "source": [
    "print(\"re.findall('[P]*thon!','Hello Python!')->{}\".format(re.findall('[Py]*thon!','Hello Python!')))"
   ]
  },
  {
   "cell_type": "code",
   "execution_count": 159,
   "id": "e583f93a-f5be-4d11-a766-c4a3b5241343",
   "metadata": {},
   "outputs": [
    {
     "name": "stdout",
     "output_type": "stream",
     "text": [
      "re.findall('[Py]*thon!','Hello Pthon!')->['Python!']\n"
     ]
    }
   ],
   "source": [
    "print(\"re.findall('[Py]*thon!','Hello Pthon!')->{}\".format(re.findall('[Py]*thon!','Hello Python!')))"
   ]
  },
  {
   "cell_type": "code",
   "execution_count": 160,
   "id": "b29c073c-11b1-47a6-a10e-79829053b482",
   "metadata": {},
   "outputs": [
    {
     "name": "stdout",
     "output_type": "stream",
     "text": [
      "re.findall('[Py]*thon!','Hello Python!')->['thon!']\n"
     ]
    }
   ],
   "source": [
    "print(\"re.findall('[Py]*thon!','Hello Python!')->{}\".format(re.findall('[P]*thon!','Hello thon!')))"
   ]
  },
  {
   "cell_type": "code",
   "execution_count": 161,
   "id": "60b29ba6-686c-4256-9a20-e1d5b70555db",
   "metadata": {},
   "outputs": [
    {
     "name": "stdout",
     "output_type": "stream",
     "text": [
      "re.findall('python|grasshopper','python')->['python']\n",
      "re.findall('python|grasshopper','grasshopper')->['grasshopper']\n",
      "re.findall('python|grasshopper','grasshopper and python')->['grasshopper', 'python']\n"
     ]
    }
   ],
   "source": [
    "print(\"re.findall('python|grasshopper','python')->{}\".format(re.findall('python|grasshopper','python')))\n",
    "print(\"re.findall('python|grasshopper','grasshopper')->{}\".format(re.findall('python|grasshopper','grasshopper')))\n",
    "print(\"re.findall('python|grasshopper','grasshopper and python')->{}\".format(re.findall('python|grasshopper','grasshopper and python')))"
   ]
  },
  {
   "cell_type": "code",
   "execution_count": 164,
   "id": "3e516bae-87ef-40cd-a836-3fae38780bb0",
   "metadata": {},
   "outputs": [
    {
     "name": "stdout",
     "output_type": "stream",
     "text": [
      "re.findall('python|a','b')->[]\n"
     ]
    }
   ],
   "source": [
    "print(\"re.findall('python|a','b')->{}\".format(re.findall('python|a','b')))"
   ]
  },
  {
   "cell_type": "code",
   "execution_count": 165,
   "id": "6770676e-9803-47a3-9ae1-1300695dbaff",
   "metadata": {},
   "outputs": [
    {
     "name": "stdout",
     "output_type": "stream",
     "text": [
      "re.findall('python|a','python')->['python']\n"
     ]
    }
   ],
   "source": [
    "print(\"re.findall('python|a','python')->{}\".format(re.findall('python|a','python')))"
   ]
  },
  {
   "cell_type": "code",
   "execution_count": 166,
   "id": "afffaf85-fa6e-40c9-a151-2f550feec6e5",
   "metadata": {},
   "outputs": [
    {
     "name": "stdout",
     "output_type": "stream",
     "text": [
      "re.findall('python|grasshopper','a')->[]\n"
     ]
    }
   ],
   "source": [
    "print(\"re.findall('python|grasshopper','a')->{}\".format(re.findall('python|grasshopper','a')))"
   ]
  },
  {
   "cell_type": "code",
   "execution_count": 167,
   "id": "3bda95cb-c76d-4cd0-8d38-2e5a7480209d",
   "metadata": {},
   "outputs": [
    {
     "name": "stdout",
     "output_type": "stream",
     "text": [
      "re.findall('\\d','number=10')->['1', '0']\n",
      "re.findall('\\D','number=10')->['n', 'u', 'm', 'b', 'e', 'r', '=']\n",
      "re.findall('[^0-9]','number=10')->['n', 'u', 'm', 'b', 'e', 'r', '=']\n"
     ]
    }
   ],
   "source": [
    "print(\"re.findall('\\d','number=10')->{}\".format(re.findall('\\d','number=10')))\n",
    "print(\"re.findall('\\D','number=10')->{}\".format(re.findall('\\D','number=10')))\n",
    "print(\"re.findall('[^0-9]','number=10')->{}\".format(re.findall('[^0-9]','number=10')))"
   ]
  },
  {
   "cell_type": "code",
   "execution_count": 168,
   "id": "d77251d5-31d4-4418-8e9c-96f3a2865734",
   "metadata": {},
   "outputs": [
    {
     "name": "stdout",
     "output_type": "stream",
     "text": [
      "re.findall('[^1-6]','number=10')->['n', 'u', 'm', 'b', 'e', 'r', '=', '0']\n"
     ]
    }
   ],
   "source": [
    "print(\"re.findall('[^1-6]','number=10')->{}\".format(re.findall('[^1-6]','number=10')))"
   ]
  },
  {
   "cell_type": "code",
   "execution_count": 169,
   "id": "180ff70c-3100-44cf-a873-0cd69d14b4c2",
   "metadata": {},
   "outputs": [
    {
     "name": "stdout",
     "output_type": "stream",
     "text": [
      "re.findall('[^2]','number=10')->['n', 'u', 'm', 'b', 'e', 'r', '=', '1', '0']\n"
     ]
    }
   ],
   "source": [
    "print(\"re.findall('[^2]','number=10')->{}\".format(re.findall('[^2]','number=10')))"
   ]
  },
  {
   "cell_type": "code",
   "execution_count": 170,
   "id": "9a60de15-e794-4210-80ef-e369be017d20",
   "metadata": {},
   "outputs": [
    {
     "name": "stdout",
     "output_type": "stream",
     "text": [
      "re.findall('[^n,u]','number=10')->['m', 'b', 'e', 'r', '=', '1', '0']\n"
     ]
    }
   ],
   "source": [
    "print(\"re.findall('[^n,u]','number=10')->{}\".format(re.findall('[^n,u]','number=10')))"
   ]
  },
  {
   "cell_type": "code",
   "execution_count": 171,
   "id": "b7f6bdf9-2bc4-4f97-ab5a-f1e4cde8d3fc",
   "metadata": {},
   "outputs": [
    {
     "name": "stdout",
     "output_type": "stream",
     "text": [
      "re.findall('[a-z]','python')->['p', 'y', 't', 'h', 'o', 'n']\n",
      "re.search('[a-z]+','python')-><re.Match object; span=(0, 6), match='python'>\n",
      "re.search('[a-z]+','python')->found it!\n",
      "re.split(',','Hello,,,,,,Python!')->['Hello', '', '', '', '', '', 'Python!']\n",
      "re.sub('Python','Grasshopper','Hello Python!')->Hello Grasshopper!\n",
      "pattern_compile.findall('Hello,,,,,,Python!')->['Python']\n",
      "re.match('p','python')->found it!\n"
     ]
    }
   ],
   "source": [
    "print(\"re.findall('[a-z]','python')->{}\".format(re.findall('[a-z]','python-3.0')))\n",
    "print(\"re.search('[a-z]+','python')->{}\".format(re.search('[a-z]+','python')))\n",
    "if re.search('[a-z]+','python'):\n",
    "    print(\"re.search('[a-z]+','python')->found it!\")\n",
    "print(\"re.split(',','Hello,,,,,,Python!')->{}\".format(re.split(',','Hello,,,,,,Python!')))\n",
    "print(\"re.sub('Python','Grasshopper','Hello Python!')->{}\".format(re.sub('Python','Grasshopper','Hello Python!')))\n",
    "\n",
    "pattern_compile=re.compile('Python')\n",
    "print(\"pattern_compile.findall('Hello,,,,,,Python!')->{}\".format(pattern_compile.findall('Hello,,,,,,Python!')))\n",
    "\n",
    "if re.match('p','python'):\n",
    "    print(\"re.match('p','python')->found it!\")"
   ]
  },
  {
   "cell_type": "code",
   "execution_count": 172,
   "id": "e1c02e05-2902-4ec7-945e-62068c0756d8",
   "metadata": {},
   "outputs": [
    {
     "name": "stdout",
     "output_type": "stream",
     "text": [
      "re.findall('[a-z]','python')->['p', 'y', 't', 'h', 'o', 'n']\n"
     ]
    }
   ],
   "source": [
    "print(\"re.findall('[a-z]','python')->{}\".format(re.findall('[a-z]','python-3.0')))"
   ]
  },
  {
   "cell_type": "code",
   "execution_count": 173,
   "id": "9e051add-ebfb-4eda-ba35-77602fbb8a8d",
   "metadata": {},
   "outputs": [
    {
     "name": "stdout",
     "output_type": "stream",
     "text": [
      "re.findall('[a-z]','python')->['p', 'y', 't', 'h', 'o', 'n']\n"
     ]
    }
   ],
   "source": [
    "print(\"re.findall('[a-z]','python')->{}\".format(re.findall('[a-z]','python-4.0')))"
   ]
  },
  {
   "cell_type": "code",
   "execution_count": 174,
   "id": "00955b90-086b-4e27-8bbb-627e2e338aff",
   "metadata": {},
   "outputs": [
    {
     "name": "stdout",
     "output_type": "stream",
     "text": [
      "re.findall('[a-z]','python')->['p', 'y', 't', 'h', 'o', 'n']\n"
     ]
    }
   ],
   "source": [
    "print(\"re.findall('[a-z]','python')->{}\".format(re.findall('[a-z]','python')))"
   ]
  },
  {
   "cell_type": "code",
   "execution_count": 175,
   "id": "77c64982-f187-4e15-9ee7-f7d907aaceeb",
   "metadata": {},
   "outputs": [
    {
     "name": "stdout",
     "output_type": "stream",
     "text": [
      "re.findall('[a-z]','python-3.0')->['p', 'y', 't', 'h', 'o', 'n']\n"
     ]
    }
   ],
   "source": [
    "print(\"re.findall('[a-z]','python-3.0')->{}\".format(re.findall('[a-z]','python-3.0')))"
   ]
  },
  {
   "cell_type": "code",
   "execution_count": 176,
   "id": "b83cc145-b913-4a83-b05a-f93ca3e04e4c",
   "metadata": {},
   "outputs": [
    {
     "name": "stdout",
     "output_type": "stream",
     "text": [
      "re.search('[a-z]+','python')-><re.Match object; span=(0, 6), match='python'>\n"
     ]
    }
   ],
   "source": [
    "print(\"re.search('[a-z]+','python')->{}\".format(re.search('[a-z]+','python')))"
   ]
  },
  {
   "cell_type": "code",
   "execution_count": 177,
   "id": "19261786-eca5-4232-bc8d-29c54740d350",
   "metadata": {},
   "outputs": [
    {
     "name": "stdout",
     "output_type": "stream",
     "text": [
      "re.search('[a-z]+','python')->found it!\n"
     ]
    }
   ],
   "source": [
    "if re.search('[a-z]+','python'):\n",
    "    print(\"re.search('[a-z]+','python')->found it!\")"
   ]
  },
  {
   "cell_type": "code",
   "execution_count": 182,
   "id": "7b114289-3346-473c-8b7e-fb8d5572024c",
   "metadata": {},
   "outputs": [
    {
     "name": "stdout",
     "output_type": "stream",
     "text": [
      "re.search('[a-o]+','ython')->found it!\n"
     ]
    }
   ],
   "source": [
    "if re.search('[a-o]+','ython'):\n",
    "    print(\"re.search('[a-o]+','ython')->found it!\")"
   ]
  },
  {
   "cell_type": "code",
   "execution_count": 183,
   "id": "bdc81ecc-61a4-45cf-ab69-f170b7b5b490",
   "metadata": {},
   "outputs": [],
   "source": [
    "if re.search('a+','python'):\n",
    "    print(\"re.search('a+','python')->found it!\")"
   ]
  },
  {
   "cell_type": "code",
   "execution_count": 184,
   "id": "14997a39-53ca-43d9-b2a6-25b0bcf7b737",
   "metadata": {},
   "outputs": [
    {
     "name": "stdout",
     "output_type": "stream",
     "text": [
      "re.search('a+','python')->found it!\n"
     ]
    }
   ],
   "source": [
    "if not re.search('a+','python'):\n",
    "    print(\"re.search('a+','python')->found it!\")"
   ]
  },
  {
   "cell_type": "code",
   "execution_count": 185,
   "id": "161cb7a6-63b0-47ea-bbf2-86150b01b521",
   "metadata": {},
   "outputs": [],
   "source": [
    "if not re.search('[a-z]+','python'):\n",
    "    print(\"re.search('[a-z]+','python')->found it!\")"
   ]
  },
  {
   "cell_type": "code",
   "execution_count": 186,
   "id": "e2b471f0-22c9-4791-ba16-5c11cbcda0f1",
   "metadata": {},
   "outputs": [
    {
     "name": "stdout",
     "output_type": "stream",
     "text": [
      "re.search('[a-z]','python')->found it!\n"
     ]
    }
   ],
   "source": [
    "if re.search('[a-z]','python'):\n",
    "    print(\"re.search('[a-z]','python')->found it!\")"
   ]
  },
  {
   "cell_type": "code",
   "execution_count": 187,
   "id": "438c1086-be32-4744-be3d-fbe1f254c265",
   "metadata": {},
   "outputs": [],
   "source": [
    "if re.search('[a]+','python'):\n",
    "    print(\"re.search('[a]+','python')->found it!\")"
   ]
  },
  {
   "cell_type": "code",
   "execution_count": 188,
   "id": "e8c5c3e2-4821-4acb-811c-15845359533a",
   "metadata": {},
   "outputs": [
    {
     "name": "stdout",
     "output_type": "stream",
     "text": [
      "re.search('[a-h]+','python')->found it!\n"
     ]
    }
   ],
   "source": [
    "if re.search('[a-h]+','python'):\n",
    "    print(\"re.search('[a-h]+','python')->found it!\")"
   ]
  },
  {
   "cell_type": "code",
   "execution_count": 189,
   "id": "13d2a2a8-fec9-43d1-8968-e97fde7fe1af",
   "metadata": {},
   "outputs": [],
   "source": [
    "if re.search('[a-f]+','python'):\n",
    "    print(\"re.search('[a-f]+','python')->found it!\")"
   ]
  },
  {
   "cell_type": "code",
   "execution_count": 190,
   "id": "4f372ff3-139e-4cb4-8fdd-8d2394c7ddf6",
   "metadata": {},
   "outputs": [
    {
     "name": "stdout",
     "output_type": "stream",
     "text": [
      "re.split(',','Hello,,,,,,Python!')->['Hello', '', '', '', '', '', 'Python!']\n",
      "re.sub('Python','Grasshopper','Hello Python!')->Hello Grasshopper!\n"
     ]
    }
   ],
   "source": [
    "print(\"re.split(',','Hello,,,,,,Python!')->{}\".format(re.split(',','Hello,,,,,,Python!')))\n",
    "print(\"re.sub('Python','Grasshopper','Hello Python!')->{}\".format(re.sub('Python','Grasshopper','Hello Python!')))"
   ]
  },
  {
   "cell_type": "code",
   "execution_count": 192,
   "id": "7c9f9bac-f26a-4d40-8861-18864779ab11",
   "metadata": {},
   "outputs": [
    {
     "name": "stdout",
     "output_type": "stream",
     "text": [
      "re.split(',',',,,,,,Python!')->['', '', '', '', '', '', 'Python!']\n",
      "re.sub('a','Grasshopper','Hello Python!')->Hello Python!\n"
     ]
    }
   ],
   "source": [
    "print(\"re.split(',',',,,,,,Python!')->{}\".format(re.split(',',',,,,,,Python!')))\n",
    "print(\"re.sub('a','Grasshopper','Hello Python!')->{}\".format(re.sub('a','Grasshopper','Hello Python!')))"
   ]
  },
  {
   "cell_type": "code",
   "execution_count": 193,
   "id": "7b18057d-749b-4d90-a84d-3190b5aabeae",
   "metadata": {},
   "outputs": [
    {
     "name": "stdout",
     "output_type": "stream",
     "text": [
      "'python'.find('python')->0\n",
      "'python'.find('thon')->2\n",
      "'python'.find('a')->-1\n",
      "'p' in 'python'->True\n"
     ]
    }
   ],
   "source": [
    "print(\"\\'python\\'.find(\\'python\\')->{}\".format('python'.find('python')))\n",
    "print(\"\\'python\\'.find(\\'thon\\')->{}\".format('python'.find('thon')))\n",
    "print(\"\\'python\\'.find(\\'a\\')->{}\".format('python'.find('a')))\n",
    "print(\"\\'p\\' in \\'python\\'->{}\".format('p' in 'python'))"
   ]
  },
  {
   "cell_type": "code",
   "execution_count": 195,
   "id": "b467497b-42f0-433b-b9c4-59062f833e83",
   "metadata": {},
   "outputs": [
    {
     "name": "stdout",
     "output_type": "stream",
     "text": [
      "'beautiful'.find('beautiful')->0\n",
      "'beautiful'.find('ful')->6\n",
      "'beautiful'.find('a')->2\n",
      "'ful' in 'beautiful'->True\n"
     ]
    }
   ],
   "source": [
    "print(\"\\'beautiful\\'.find(\\'beautiful\\')->{}\".format('beautiful'.find('beautiful')))\n",
    "print(\"\\'beautiful\\'.find(\\'ful\\')->{}\".format('beautiful'.find('ful')))\n",
    "print(\"\\'beautiful\\'.find(\\'a\\')->{}\".format('beautiful'.find('a')))\n",
    "print(\"\\'ful\\' in \\'beautiful\\'->{}\".format('ful' in 'beautiful'))"
   ]
  },
  {
   "cell_type": "code",
   "execution_count": 196,
   "id": "a2f3a8ec-c30a-44ec-83a0-080b866cb7f5",
   "metadata": {},
   "outputs": [
    {
     "name": "stdout",
     "output_type": "stream",
     "text": [
      "'Hello,,,,,,Python!'.split(',')->['Hello', '', '', '', '', '', 'Python!']\n",
      "'Hello Python!'.replace('Python','Grasshopper')->Hello Grasshopper!\n"
     ]
    }
   ],
   "source": [
    "print(\"\\'Hello,,,,,,Python!\\'.split(',')->{}\".format( 'Hello,,,,,,Python!'.split(',')))\n",
    "print(\"\\'Hello Python!\\'.replace(\\'Python\\',\\'Grasshopper\\')->{}\".format( 'Hello Python!'.replace('Python','Grasshopper')))"
   ]
  },
  {
   "cell_type": "code",
   "execution_count": 197,
   "id": "756bd8b6-d615-4b91-b9ff-85ef6fe81584",
   "metadata": {},
   "outputs": [
    {
     "name": "stdout",
     "output_type": "stream",
     "text": [
      "'Hello,,,,,,Python!'.split(',')->['Hello', '', '', '', '', '', 'Python!']\n",
      "'Hello World!'.replace('Hello','Hi')->Hi World!\n"
     ]
    }
   ],
   "source": [
    "print(\"\\'Hello,,,,,,Python!\\'.split(',')->{}\".format( 'Hello,,,,,,Python!'.split(',')))\n",
    "print(\"\\'Hello World!\\'.replace(\\'Hello\\',\\'Hi\\')->{}\".format( 'Hello World!'.replace('Hello','Hi')))"
   ]
  },
  {
   "cell_type": "code",
   "execution_count": 198,
   "id": "7e931f6b-66d0-4f38-9c1e-ab78c3d649bd",
   "metadata": {},
   "outputs": [
    {
     "name": "stdout",
     "output_type": "stream",
     "text": [
      "match_1.gourp(1)->python\n",
      "match_1.start(1)->4\n",
      "match_1.end(1)->10\n",
      "match_1.span(1)->(4, 10)\n",
      "match_2.group(1)->python\n",
      "match_2.group(2)->org\n"
     ]
    }
   ],
   "source": [
    "match_1=re.match(r'www\\.(.*)\\..{3}','www.python.org')\n",
    "print(\"match_1.gourp(1)->{}\".format(match_1.group(1)))\n",
    "print(\"match_1.start(1)->{}\".format(match_1.start(1)))\n",
    "print(\"match_1.end(1)->{}\".format(match_1.end(1)))\n",
    "print(\"match_1.span(1)->{}\".format(match_1.span(1)))\n",
    "match_2=re.match(r'www\\.(.*)\\.(.{3})','www.python.org')\n",
    "print(\"match_2.group(1)->{}\".format(match_2.group(1)))\n",
    "print(\"match_2.group(2)->{}\".format(match_2.group(2)))"
   ]
  },
  {
   "cell_type": "code",
   "execution_count": 202,
   "id": "5956b822-f5d7-4ce7-983f-eda5ad611683",
   "metadata": {},
   "outputs": [
    {
     "name": "stdout",
     "output_type": "stream",
     "text": [
      "match_1.gourp(1)->python\n",
      "match_1.start(1)->4\n",
      "match_1.end(1)->10\n",
      "match_1.span(1)->(4, 10)\n"
     ]
    }
   ],
   "source": [
    "match_1=re.match(r'www\\.(.*)\\..{3}','www.python.org')\n",
    "print(\"match_1.gourp(1)->{}\".format(match_1.group(1)))\n",
    "print(\"match_1.start(1)->{}\".format(match_1.start(1)))\n",
    "print(\"match_1.end(1)->{}\".format(match_1.end(1)))\n",
    "print(\"match_1.span(1)->{}\".format(match_1.span(1)))"
   ]
  },
  {
   "cell_type": "code",
   "execution_count": 205,
   "id": "d292f64c-6cad-4fd9-bad4-7df85706106f",
   "metadata": {},
   "outputs": [
    {
     "name": "stdout",
     "output_type": "stream",
     "text": [
      "match_2.group(1)->a\n",
      "match_2.group(2)->com\n"
     ]
    }
   ],
   "source": [
    "match_2=re.match(r'www\\.(.*)\\.(.{3})','www.a.com')\n",
    "print(\"match_2.group(1)->{}\".format(match_2.group(1)))\n",
    "print(\"match_2.group(2)->{}\".format(match_2.group(2)))"
   ]
  },
  {
   "cell_type": "code",
   "execution_count": 206,
   "id": "842f4b64-c107-4553-829d-86563dc2fad2",
   "metadata": {},
   "outputs": [
    {
     "name": "stdout",
     "output_type": "stream",
     "text": [
      "match_2.group(1)->a\n",
      "match_2.group(2)->com\n",
      "match_2.group(0)->www.a.com\n"
     ]
    }
   ],
   "source": [
    "match_2=re.match(r'www\\.(.*)\\.(.{3})','www.a.com')\n",
    "print(\"match_2.group(1)->{}\".format(match_2.group(1)))\n",
    "print(\"match_2.group(2)->{}\".format(match_2.group(2)))\n",
    "print(\"match_2.group(0)->{}\".format(match_2.group(0)))"
   ]
  },
  {
   "cell_type": "code",
   "execution_count": 211,
   "id": "953e82a3-f34d-4025-bef4-72adee2d695a",
   "metadata": {},
   "outputs": [
    {
     "name": "stdout",
     "output_type": "stream",
     "text": [
      "match_1.gourp(0)->www.python.org\n",
      "match_1.start(0)->0\n",
      "match_1.end(1)->10\n",
      "match_1.span(0)->(0, 14)\n"
     ]
    }
   ],
   "source": [
    "match_1=re.match(r'www\\.(.*)\\..{3}','www.python.org')\n",
    "print(\"match_1.gourp(0)->{}\".format(match_1.group(0)))\n",
    "print(\"match_1.start(0)->{}\".format(match_1.start(0)))\n",
    "print(\"match_1.end(1)->{}\".format(match_1.end(1)))\n",
    "print(\"match_1.span(0)->{}\".format(match_1.span(0)))"
   ]
  },
  {
   "cell_type": "code",
   "execution_count": 212,
   "id": "c8bb4f01-f401-4214-9df4-14f222d41588",
   "metadata": {},
   "outputs": [],
   "source": [
    "lst_1=(range(10,35,6))"
   ]
  },
  {
   "cell_type": "code",
   "execution_count": 213,
   "id": "5e6f44b7-143b-43dd-bf41-90a2c034dfb4",
   "metadata": {},
   "outputs": [
    {
     "name": "stdout",
     "output_type": "stream",
     "text": [
      "lst_1=range(10, 35, 6)\n"
     ]
    }
   ],
   "source": [
    "print(\"lst_1={}\".format(lst_1))"
   ]
  },
  {
   "cell_type": "code",
   "execution_count": 214,
   "id": "afc3fa1e-20da-4254-9845-688bfb6f3132",
   "metadata": {},
   "outputs": [
    {
     "name": "stdout",
     "output_type": "stream",
     "text": [
      "for i in lst_1\n"
     ]
    }
   ],
   "source": [
    "print(\"for i in lst_1\")"
   ]
  },
  {
   "cell_type": "code",
   "execution_count": 216,
   "id": "ea6e0ac5-eb57-4bbd-a568-3e98dd25b755",
   "metadata": {},
   "outputs": [
    {
     "name": "stdout",
     "output_type": "stream",
     "text": [
      "10\n",
      "16\n",
      "22\n",
      "28\n",
      "34\n"
     ]
    }
   ],
   "source": [
    "for i in lst_1:\n",
    "    print(i)"
   ]
  },
  {
   "cell_type": "code",
   "execution_count": 217,
   "id": "faaea88a-5f4f-4bf1-bc22-1ae006cf9717",
   "metadata": {},
   "outputs": [
    {
     "name": "stdout",
     "output_type": "stream",
     "text": [
      "for i in range(len(lst_1)):\n"
     ]
    }
   ],
   "source": [
    "print(\"for i in range(len(lst_1)):\")"
   ]
  },
  {
   "cell_type": "code",
   "execution_count": 218,
   "id": "1b2291c2-8b0b-4c3f-bb90-bdc51b77263e",
   "metadata": {},
   "outputs": [
    {
     "name": "stdout",
     "output_type": "stream",
     "text": [
      "idx=0,val=16\n",
      "idx=1,val=16\n",
      "idx=2,val=16\n",
      "idx=3,val=16\n",
      "idx=4,val=16\n"
     ]
    }
   ],
   "source": [
    "for i in range(len(lst_1)):\n",
    "    print(\"idx={},val={}\".format(i,lst_1[1]))"
   ]
  },
  {
   "cell_type": "code",
   "execution_count": 219,
   "id": "3ee79861-a7fc-4c96-8fd3-abebba68480e",
   "metadata": {},
   "outputs": [],
   "source": [
    "dic_4=dict(a=1,b=5,c=6,d=4)"
   ]
  },
  {
   "cell_type": "code",
   "execution_count": 220,
   "id": "1c856720-6a20-47ee-9255-3bf1f75424a1",
   "metadata": {},
   "outputs": [
    {
     "name": "stdout",
     "output_type": "stream",
     "text": [
      "dic_4={}\n"
     ]
    }
   ],
   "source": [
    "print(\"dic_4={}\")"
   ]
  },
  {
   "cell_type": "code",
   "execution_count": 221,
   "id": "4aaff9ff-70ab-4203-ac11-8f2a27096376",
   "metadata": {},
   "outputs": [
    {
     "name": "stdout",
     "output_type": "stream",
     "text": [
      "dic_4={'a': 1, 'b': 5, 'c': 6, 'd': 4}\n"
     ]
    }
   ],
   "source": [
    "print(\"dic_4={}\".format(dic_4))"
   ]
  },
  {
   "cell_type": "code",
   "execution_count": 222,
   "id": "8c981cf2-0309-498f-be93-189b5437c721",
   "metadata": {},
   "outputs": [
    {
     "name": "stdout",
     "output_type": "stream",
     "text": [
      "for s in dic_4\n",
      "a\n",
      "b\n",
      "c\n",
      "d\n"
     ]
    }
   ],
   "source": [
    "print(\"for s in dic_4\")\n",
    "for s in dic_4:\n",
    "    print(s)"
   ]
  },
  {
   "cell_type": "code",
   "execution_count": 225,
   "id": "2a66727d-36fa-46e8-ada4-70e530392f5a",
   "metadata": {},
   "outputs": [
    {
     "name": "stdout",
     "output_type": "stream",
     "text": [
      "for s,a, in dic_4.items():\n",
      "key=a,val=1\n",
      "key=b,val=5\n",
      "key=c,val=6\n",
      "key=d,val=4\n"
     ]
    }
   ],
   "source": [
    "print(\"for s,a, in dic_4.items():\")\n",
    "for s,a,in dic_4.items():\n",
    "    print(\"key={},val={}\".format(s,a,))"
   ]
  },
  {
   "cell_type": "code",
   "execution_count": 2,
   "id": "b1e45fe6-d5f1-4354-a0f6-6291ddd8ca96",
   "metadata": {},
   "outputs": [
    {
     "name": "stdout",
     "output_type": "stream",
     "text": [
      "c=1\n",
      "c=106\n"
     ]
    }
   ],
   "source": [
    "q=1\n",
    "while q<=200:\n",
    "    print(\"c={}\".format(q))\n",
    "    q+=105"
   ]
  },
  {
   "cell_type": "code",
   "execution_count": 3,
   "id": "00b14090-49c6-402f-94f6-171b9e930e49",
   "metadata": {},
   "outputs": [
    {
     "name": "stdout",
     "output_type": "stream",
     "text": [
      "r=1\n",
      "r=6\n",
      "r=11\n",
      "r=16\n",
      "r=21\n",
      "r=26\n",
      "r=31\n",
      "r=36\n",
      "r=41\n",
      "r=46\n",
      "r=51\n",
      "r=56\n",
      "sys.maxsize=9223372036854775807\n",
      "i=0\n",
      "i=1\n",
      "i=2\n",
      "i=3\n",
      "i=4\n",
      "i=5\n",
      "i=6\n",
      "i=7\n",
      "i=8\n",
      "i=9\n",
      "i=10\n",
      "i=11\n",
      "i=12\n",
      "i=13\n",
      "i=14\n",
      "i=15\n"
     ]
    }
   ],
   "source": [
    "r=1\n",
    "while r<=200:\n",
    "    print(\"r={}\".format(r))\n",
    "    r+=5\n",
    "    if r>=60:break\n",
    "        \n",
    "import sys\n",
    "print(\"sys.maxsize={}\".format(sys.maxsize))\n",
    "for i in range(sys.maxsize):\n",
    "    print(\"i={}\".format(i))\n",
    "    i+=5\n",
    "    if i>=20:break"
   ]
  },
  {
   "cell_type": "code",
   "execution_count": 34,
   "id": "4135d988-6f89-4ae7-a420-352a2c57c9d3",
   "metadata": {},
   "outputs": [],
   "source": [
    "dic_a=('./data/elevation.txt')"
   ]
  },
  {
   "cell_type": "code",
   "execution_count": 28,
   "id": "0c526701-0d3e-48bd-ac6d-19d59828df05",
   "metadata": {},
   "outputs": [
    {
     "data": {
      "text/plain": [
       "'./data/elevation.txt'"
      ]
     },
     "execution_count": 28,
     "metadata": {},
     "output_type": "execute_result"
    }
   ],
   "source": [
    "dic_a"
   ]
  },
  {
   "cell_type": "code",
   "execution_count": 89,
   "id": "958985e7-d6c4-4320-9e27-6bb94adbce90",
   "metadata": {},
   "outputs": [],
   "source": [
    "import pandas as pd"
   ]
  },
  {
   "cell_type": "code",
   "execution_count": 45,
   "id": "41a5ea1d-135f-4526-8b0b-8e3bd64aac87",
   "metadata": {},
   "outputs": [],
   "source": [
    "topography_fp='./data/elevation.txt'"
   ]
  },
  {
   "cell_type": "code",
   "execution_count": 97,
   "id": "db4421d9-1fed-4478-851b-589e248aeb95",
   "metadata": {},
   "outputs": [],
   "source": [
    "topography_fp='./data/elevation.txt'\n",
    "elevation_dat=[]"
   ]
  },
  {
   "cell_type": "code",
   "execution_count": 9,
   "id": "cde2ae83-7e75-402b-95a8-0c179fcb2372",
   "metadata": {},
   "outputs": [
    {
     "name": "stdout",
     "output_type": "stream",
     "text": [
      "zip_lst=zip(lst_a,lst_b)-><zip object at 0x0000024964DE5BC0>\n",
      "dict(zip_lst)->{0: 'point_a', 1: 'point_b', 2: 'point_c', 3: 'point_d'}\n",
      "0 point_a\n",
      "1 point_b\n",
      "2 point_c\n",
      "3 point_d\n",
      "a=(0, 1, 2, 3),b=('point_a', 'point_b', 'point_c', 'point_d')\n"
     ]
    }
   ],
   "source": [
    "lst_a=[0,1,2,3]\n",
    "lst_b=['point_a','point_b','point_c','point_d']\n",
    "zip_lst=zip(lst_a,lst_b)\n",
    "print(\"zip_lst=zip(lst_a,lst_b)->{}\".format(zip_lst))\n",
    "print(\"dict(zip_lst)->{}\".format(dict(zip_lst)))\n",
    "\n",
    "zip_lst=zip(lst_a,lst_b)\n",
    "for a,b in zip_lst:\n",
    "    print(a,b)\n",
    "    \n",
    "zip_lst=zip(lst_a,lst_b)\n",
    "a,b=zip(*zip_lst)\n",
    "print(\"a={},b={}\".format(a,b))\n"
   ]
  },
  {
   "cell_type": "code",
   "execution_count": 10,
   "id": "dc834fb5-d5de-4e90-96a2-007f99079f26",
   "metadata": {},
   "outputs": [
    {
     "name": "stdout",
     "output_type": "stream",
     "text": [
      "dic_4={0: 'point_a', 1: 'point_b', 2: 'point_c', 3: 'point_d'}\n",
      "dict((i,v) for i,v in enumerate(lst_c))->{0: 'point_a', 1: 'point_b', 2: 'point_c', 3: 'point_d'}\n",
      "________________________________________\n",
      "0:0,point_a\n",
      "1:1,point_b\n",
      "2:2,point_c\n",
      "3:3,point_d\n"
     ]
    }
   ],
   "source": [
    "lst_c=['point_a','point_b','point_c','point_d']\n",
    "dic_4={}\n",
    "for idx,value in enumerate(lst_c):\n",
    "    dic_4[idx]=value\n",
    "print(\"dic_4={}\".format(dic_4))\n",
    "print(\"dict((i,v) for i,v in enumerate(lst_c))->{}\".format(dict((i,v) for i,v in enumerate(lst_c))))\n",
    "print(\"_\"*40)\n",
    "for i,(a,b) in enumerate(zip(lst_a,lst_b)):\n",
    "    print('%d:%s,%s'%(i,a,b))\n"
   ]
  },
  {
   "cell_type": "code",
   "execution_count": 11,
   "id": "4edc7fc8-762e-482f-83c1-a9feac3edfb7",
   "metadata": {},
   "outputs": [
    {
     "name": "stdout",
     "output_type": "stream",
     "text": [
      "[x*x for x in range(3,37,5) if x%2==0]->[64, 324, 784]\n",
      "[(x,y) for x in range(3)for y in range(2)]->[(0, 0), (0, 1), (1, 0), (1, 1), (2, 0), (2, 1)]\n",
      "[(x,y) for x,y in zip(range(3),range(2))]->[(0, 0), (1, 1)]\n",
      "[[a for a in range(1,10,3)],2,3,[b for b in range(60,100,7)],[[c for c in range(1000,2000,120)],3,9]]->[[1, 4, 7], 2, 3, [60, 67, 74, 81, 88, 95], [[1000, 1120, 1240, 1360, 1480, 1600, 1720, 1840, 1960], 3, 9]]\n",
      "flatten_lst(nested_list)->[1, 4, 7, 2, 3, 60, 67, 74, 81, 88, 95, 1000, 1120, 1240, 1360, 1480, 1600, 1720, 1840, 1960, 3, 9]\n"
     ]
    }
   ],
   "source": [
    "print(\"[x*x for x in range(3,37,5) if x%2==0]->{}\".format([x*x for x in range(3,37,5) if x%2==0]))\n",
    "print(\"[(x,y) for x in range(3)for y in range(2)]->{}\".format([(x,y) for x in range(3)for y in range(2)]))\n",
    "print(\"[(x,y) for x,y in zip(range(3),range(2))]->{}\".format([(x,y) for x,y in zip(range(3),range(2))]))\n",
    "nested_list=[[a for a in range(1,10,3)],2,3,[b for b in range(60,100,7)],[[c for c in range(1000,2000,120)],3,9]]\n",
    "print(\"[[a for a in range(1,10,3)],2,3,[b for b in range(60,100,7)],[[c for c in range(1000,2000,120)],3,9]]->{}\".format(nested_list))\n",
    "\n",
    "flatten_lst=lambda lst: [m for n_lst in lst for m in flatten_lst(n_lst)] if type(lst) is list else [lst]\n",
    "print(\"flatten_lst(nested_list)->{}\".format(flatten_lst(nested_list)))\n"
   ]
  },
  {
   "cell_type": "code",
   "execution_count": 17,
   "id": "5fdd60ca-b048-4012-b021-b01b86921f43",
   "metadata": {},
   "outputs": [],
   "source": [
    "if a:\n",
    "    b\n",
    "elif a:\n",
    "    b\n",
    "elif a:\n",
    "    pass\n",
    "else:\n",
    "    b"
   ]
  },
  {
   "cell_type": "code",
   "execution_count": 18,
   "id": "526002f2-881f-40d7-a6dc-c12294528ad5",
   "metadata": {},
   "outputs": [
    {
     "name": "stdout",
     "output_type": "stream",
     "text": [
      "d\n"
     ]
    }
   ],
   "source": [
    "x=10\n",
    "if x<0:\n",
    "    print('a')\n",
    "elif x==0:\n",
    "    print('b')\n",
    "elif 0<x<10:\n",
    "    print('c')\n",
    "else:\n",
    "    print('d')"
   ]
  },
  {
   "cell_type": "code",
   "execution_count": 19,
   "id": "30689678-cffa-4be4-8051-705d495396d1",
   "metadata": {},
   "outputs": [
    {
     "name": "stdout",
     "output_type": "stream",
     "text": [
      "x==y->True\n",
      "x is y->True\n",
      "x==z->True\n",
      "x is z->False\n",
      "x is not y->False\n",
      "x is not z->True\n",
      "id_x:2514248243968;id_y:2514248243968;id_z:2514248244288\n",
      "x=[3, 6],y=[3, 6],z=[3, 6, 9] after del x[2]\n"
     ]
    }
   ],
   "source": [
    "x=y=[3,6,9]\n",
    "z=[3,6,9]\n",
    "print(\"x==y->{}\".format(x==y))\n",
    "print(\"x is y->{}\".format(x is y))\n",
    "print(\"x==z->{}\".format(x==z))\n",
    "print(\"x is z->{}\".format(x is z))\n",
    "print(\"x is not y->{}\".format(x is not y))\n",
    "print(\"x is not z->{}\".format(x is not z))\n",
    "print(\"id_x:{};id_y:{};id_z:{}\".format(id(x),id(y),id(z))) #Memory Location\n",
    "\n",
    "del x[2]\n",
    "print(\"x={},y={},z={} after del x[2]\".format(x,y,z))"
   ]
  },
  {
   "cell_type": "code",
   "execution_count": 20,
   "id": "4d06654a-4860-497a-b4bb-6d48aafb2e5b",
   "metadata": {},
   "outputs": [
    {
     "name": "stdout",
     "output_type": "stream",
     "text": [
      "3 in x->True\n",
      "0 in x->False\n",
      "3 not in x->False\n",
      "0 not in x->True\n"
     ]
    }
   ],
   "source": [
    "x=[3,6,9]\n",
    "print(\"3 in x->{}\".format(3 in x))\n",
    "print(\"0 in x->{}\".format(0 in x))\n",
    "print(\"3 not in x->{}\".format(3 not in x))\n",
    "print(\"0 not in x->{}\".format(0 not in x))"
   ]
  },
  {
   "cell_type": "code",
   "execution_count": 21,
   "id": "4cad5928-1afa-420b-b12d-ad44c6690e86",
   "metadata": {},
   "outputs": [
    {
     "name": "stdout",
     "output_type": "stream",
     "text": [
      "a<c<b kidding!!!\n"
     ]
    }
   ],
   "source": [
    "a,b,c=0,10,15\n",
    "if c>a and c<b:\n",
    "    print('a<c<b')\n",
    "else: print('a<c<b kidding!!!')"
   ]
  },
  {
   "cell_type": "code",
   "execution_count": 23,
   "id": "23d0aaaa-66f8-40c7-95af-bf98e1826e74",
   "metadata": {},
   "outputs": [],
   "source": [
    "def simple_func(x,y):\n",
    "    q=pow(x,2)+y\n",
    "    return q\n"
   ]
  },
  {
   "cell_type": "code",
   "execution_count": 24,
   "id": "f45fbdeb-1f86-4d4a-aa12-91f05a1e7c18",
   "metadata": {},
   "outputs": [
    {
     "name": "stdout",
     "output_type": "stream",
     "text": [
      "simple_func(2,7)->11\n",
      "simple_func(7,2)->51\n",
      "simple_func(y=7,x=2)->11\n"
     ]
    }
   ],
   "source": [
    "print(\"simple_func(2,7)->{}\".format(simple_func(2,7)))\n",
    "print(\"simple_func(7,2)->{}\".format(simple_func(7,2)))\n",
    "print(\"simple_func(y=7,x=2)->{}\".format(simple_func(y=7,x=2)))\n"
   ]
  },
  {
   "cell_type": "code",
   "execution_count": 25,
   "id": "8af22c9a-cec5-4a3c-95d0-3faa7304f856",
   "metadata": {},
   "outputs": [
    {
     "name": "stdout",
     "output_type": "stream",
     "text": [
      "fibonacci(6,9)->[5, 8, 13, 21, 34, 55, 89, 144, 233]\n",
      "fibonacci(7,9)->[8, 13, 21, 34, 55, 89, 144, 233, 377]\n"
     ]
    }
   ],
   "source": [
    "def fibonacci(s,count):\n",
    "    fib_lst=[0,1]\n",
    "    fib_part=[]\n",
    "    if s==0 or s==1:\n",
    "        fib_part[:]=fib_lst\n",
    "        for i in range(count-2):\n",
    "            fib_part.append(fib_part[-1]+fib_part[-2])\n",
    "    else:\n",
    "        while True:\n",
    "            fib_lst[:]=[fib_lst[1],fib_lst[0]+fib_lst[1]]\n",
    "            #print(fib_lst)\n",
    "            if fib_lst[1]-s>=0:break\n",
    "        fib_part[:]=fib_lst\n",
    "        if abs(fib_lst[0]-s)>=abs(fib_lst[1]-s):\n",
    "            for i in range(count-1):\n",
    "                fib_part.append(fib_part[-1]+fib_part[-2])\n",
    "            fib_part.pop(0)\n",
    "        else:\n",
    "            for i in range(count-2):\n",
    "                fib_part.append(fib_part[-1]+fib_part[-2])\n",
    "    return fib_part\n",
    "\n",
    "print(\"fibonacci(6,9)->{}\".format(fibonacci(6,9)))\n",
    "print(\"fibonacci(7,9)->{}\".format(fibonacci(7,9)))\n"
   ]
  },
  {
   "cell_type": "code",
   "execution_count": 26,
   "id": "7d7bdf77-b23c-4844-83a8-c1026a4c6cb8",
   "metadata": {},
   "outputs": [
    {
     "name": "stdout",
     "output_type": "stream",
     "text": [
      "5040\n"
     ]
    }
   ],
   "source": [
    "def factorial(n):\n",
    "    if n==1:\n",
    "        return 1\n",
    "    else:\n",
    "        return n*factorial(n-1)\n",
    "print(factorial(7))\n"
   ]
  },
  {
   "cell_type": "code",
   "execution_count": 27,
   "id": "a2cc0921-6a84-4591-8469-9329b06d49f7",
   "metadata": {},
   "outputs": [],
   "source": [
    "class Bird:\n",
    "    fly='Whirring'\n",
    "    def __init__(self):\n",
    "        self.hungry=True\n",
    "    def eat(self):\n",
    "        if self.hungry:\n",
    "            print('Aaaah...')\n",
    "            self.hungry=False\n",
    "        else:\n",
    "            print('No.Thanks!')\n",
    "\n",
    "class Apodidae(Bird):\n",
    "    def __init__(self):\n",
    "        super(Apodidae,self).__init__()\n",
    "        self.sound='Squawk!'\n",
    "    def sing(self):\n",
    "        print(self.sound)\n"
   ]
  },
  {
   "cell_type": "code",
   "execution_count": 28,
   "id": "990a80a0-df56-4c89-93d5-6c1647594c9f",
   "metadata": {},
   "outputs": [
    {
     "name": "stdout",
     "output_type": "stream",
     "text": [
      "swift.fly->Whirring\n",
      "swift.eat()->\n",
      "Aaaah...\n",
      "swift.eat()->\n",
      "No.Thanks!\n",
      "swift.sing()->\n",
      "Squawk!\n"
     ]
    }
   ],
   "source": [
    "swift=Apodidae()\n",
    "print(\"swift.fly->{}\".format(swift.fly))\n",
    "print(\"swift.eat()->\")\n",
    "swift.eat()\n",
    "print(\"swift.eat()->\")\n",
    "swift.eat()\n",
    "print(\"swift.sing()->\")\n",
    "swift.sing()\n"
   ]
  },
  {
   "cell_type": "code",
   "execution_count": 29,
   "id": "deaff45b-3971-43f6-873a-7c958317e0be",
   "metadata": {},
   "outputs": [
    {
     "name": "stdout",
     "output_type": "stream",
     "text": [
      "blackswift.sing()->\n",
      "Squawk!\n",
      "scarceswift.sing()->\n",
      "Squawk!\n"
     ]
    }
   ],
   "source": [
    "blackswift=Apodidae()\n",
    "scarceswift=Apodidae()\n",
    "print(\"blackswift.sing()->\")\n",
    "blackswift.sing()\n",
    "print(\"scarceswift.sing()->\")\n",
    "scarceswift.sing()\n"
   ]
  },
  {
   "cell_type": "code",
   "execution_count": 30,
   "id": "733ab444-92a1-4bf8-9275-1a70b60bcdff",
   "metadata": {},
   "outputs": [
    {
     "name": "stdout",
     "output_type": "stream",
     "text": [
      "blackswift.fly->Whirring\n",
      "blackswift.fly after redefining the blackswif's attribute->humming\n",
      "scarceswift.fly->Whirring\n"
     ]
    }
   ],
   "source": [
    "print(\"blackswift.fly->{}\".format(blackswift.fly))\n",
    "blackswift.fly='humming'\n",
    "print(\"blackswift.fly after redefining the blackswif's attribute->{}\".format(blackswift.fly))\n",
    "print(\"scarceswift.fly->{}\".format(scarceswift.fly))\n"
   ]
  },
  {
   "cell_type": "code",
   "execution_count": 31,
   "id": "d2907b16-96ab-4634-93d6-73098dd1588c",
   "metadata": {},
   "outputs": [
    {
     "name": "stdout",
     "output_type": "stream",
     "text": [
      "Squawk!\n"
     ]
    }
   ],
   "source": [
    "blackswift.sing()\n"
   ]
  },
  {
   "cell_type": "code",
   "execution_count": 32,
   "id": "fbb644a5-1d83-414f-8856-6aa1cec7eccf",
   "metadata": {},
   "outputs": [
    {
     "name": "stdout",
     "output_type": "stream",
     "text": [
      "Help on class Bird in module __main__:\n",
      "\n",
      "class Bird(builtins.object)\n",
      " |  Methods defined here:\n",
      " |  \n",
      " |  __init__(self)\n",
      " |      Initialize self.  See help(type(self)) for accurate signature.\n",
      " |  \n",
      " |  eat(self)\n",
      " |  \n",
      " |  ----------------------------------------------------------------------\n",
      " |  Data descriptors defined here:\n",
      " |  \n",
      " |  __dict__\n",
      " |      dictionary for instance variables (if defined)\n",
      " |  \n",
      " |  __weakref__\n",
      " |      list of weak references to the object (if defined)\n",
      " |  \n",
      " |  ----------------------------------------------------------------------\n",
      " |  Data and other attributes defined here:\n",
      " |  \n",
      " |  fly = 'Whirring'\n",
      "\n"
     ]
    }
   ],
   "source": [
    "help(Bird)\n"
   ]
  },
  {
   "cell_type": "code",
   "execution_count": 33,
   "id": "2a576b14-70b4-4878-8bbe-507ab9d4ce05",
   "metadata": {},
   "outputs": [
    {
     "name": "stdout",
     "output_type": "stream",
     "text": [
      "Help on class Apodidae in module __main__:\n",
      "\n",
      "class Apodidae(Bird)\n",
      " |  Method resolution order:\n",
      " |      Apodidae\n",
      " |      Bird\n",
      " |      builtins.object\n",
      " |  \n",
      " |  Methods defined here:\n",
      " |  \n",
      " |  __init__(self)\n",
      " |      Initialize self.  See help(type(self)) for accurate signature.\n",
      " |  \n",
      " |  sing(self)\n",
      " |  \n",
      " |  ----------------------------------------------------------------------\n",
      " |  Methods inherited from Bird:\n",
      " |  \n",
      " |  eat(self)\n",
      " |  \n",
      " |  ----------------------------------------------------------------------\n",
      " |  Data descriptors inherited from Bird:\n",
      " |  \n",
      " |  __dict__\n",
      " |      dictionary for instance variables (if defined)\n",
      " |  \n",
      " |  __weakref__\n",
      " |      list of weak references to the object (if defined)\n",
      " |  \n",
      " |  ----------------------------------------------------------------------\n",
      " |  Data and other attributes inherited from Bird:\n",
      " |  \n",
      " |  fly = 'Whirring'\n",
      "\n"
     ]
    }
   ],
   "source": [
    "help(Apodidae)\n"
   ]
  },
  {
   "cell_type": "code",
   "execution_count": 24,
   "id": "c8c340c0-855e-4d0b-baa7-ffbe6b2bec37",
   "metadata": {},
   "outputs": [],
   "source": [
    "class Fibs():\n",
    "    def __init__(self):\n",
    "        self.a=0\n",
    "        self.b=1\n",
    "    def next(self):\n",
    "        self.a,self.b=self.b,self.a+self.b\n",
    "        return self.a\n",
    "    def __iter__(self):\n",
    "        return self"
   ]
  },
  {
   "cell_type": "code",
   "execution_count": 25,
   "id": "1eea3cf4-8b48-499c-9822-ccceb5d6ed79",
   "metadata": {},
   "outputs": [
    {
     "name": "stdout",
     "output_type": "stream",
     "text": [
      "fa=[1, 1, 2, 3, 5, 8, 13, 21, 34]\n",
      "fb=[55, 89, 144, 233, 377]\n"
     ]
    }
   ],
   "source": [
    "f=Fibs()\n",
    "fa=[]\n",
    "fb=[]\n",
    "for i in range(9):\n",
    "    fa.append(f.next())\n",
    "print(\"fa={}\".format(fa))\n",
    "for i in range(5):\n",
    "    fb.append(f.next())\n",
    "print(\"fb={}\".format(fb))\n"
   ]
  },
  {
   "cell_type": "code",
   "execution_count": 47,
   "id": "c22b3b05-24eb-4b9c-99ac-cd39200a9bb3",
   "metadata": {},
   "outputs": [
    {
     "name": "stdout",
     "output_type": "stream",
     "text": [
      "lst_d=[3, 5, 7, 9, 11, 13, 15, 17, 19]\n",
      "__________________________________________________\n",
      "next(lst_iter)->1\n",
      "next(lst_iter)->3\n"
     ]
    }
   ],
   "source": [
    "lst_d=list(range(3,20,2))\n",
    "print(\"lst_d={}\".format(lst_d))\n",
    "print(\"_\"*50)\n",
    "lst_iter=iter(lst)\n",
    "print(\"next(lst_iter)->{}\".format(next(lst_iter)))\n",
    "print(\"next(lst_iter)->{}\".format(next(lst_iter)))\n",
    "for i in lst_iter:\n",
    "    print(i)\n",
    "\n",
    "\n"
   ]
  },
  {
   "cell_type": "code",
   "execution_count": 40,
   "id": "da34ab0f-4c3e-4871-8f9d-a16ac9bf733e",
   "metadata": {},
   "outputs": [],
   "source": [
    "lst_ia=list(range(1,5,2))"
   ]
  },
  {
   "cell_type": "code",
   "execution_count": 42,
   "id": "2e999e86-ca77-49f6-9259-e97dc22f60ce",
   "metadata": {},
   "outputs": [],
   "source": [
    "lst_iter=iter(lst)"
   ]
  },
  {
   "cell_type": "code",
   "execution_count": 48,
   "id": "ed7ddcdf-3dc9-44fc-838e-458aa8a75f4d",
   "metadata": {},
   "outputs": [
    {
     "data": {
      "text/plain": [
       "<list_iterator at 0x1db9ff7b7c0>"
      ]
     },
     "execution_count": 48,
     "metadata": {},
     "output_type": "execute_result"
    }
   ],
   "source": [
    "lst_iter"
   ]
  },
  {
   "cell_type": "code",
   "execution_count": 49,
   "id": "04644df8-9598-454f-aa3a-436d3148d79d",
   "metadata": {},
   "outputs": [
    {
     "name": "stdout",
     "output_type": "stream",
     "text": [
      "lst_e=[[3, 6, 9, 12, 15, 18], [3, 7, 67, [0, 1, 2, 3, 4], 89]]\n",
      "__________________________________________________\n",
      "flatten_lst=[3, 6, 9, 12, 15, 18, 3, 7, 67, 0, 1, 2, 3, 4, 89]\n"
     ]
    }
   ],
   "source": [
    "lst_e=[list(range(3,20,3)),[3,7,67,list(range(5)),89]]\n",
    "print(\"lst_e={}\".format(lst_e))\n",
    "print(\"_\"*50)\n",
    "flatten_lst=[]\n",
    "for v_1 in lst_e:\n",
    "    try:\n",
    "        for v_2 in v_1:\n",
    "            try:\n",
    "                for v_3 in v_2:\n",
    "                    flatten_lst.append(v_3)\n",
    "            except TypeError:\n",
    "                flatten_lst.append(v_2)\n",
    "    except TypeError:\n",
    "        flatten_lst.append(v_1)\n",
    "print(\"flatten_lst={}\".format(flatten_lst))\n"
   ]
  },
  {
   "cell_type": "code",
   "execution_count": 54,
   "id": "a102713b-4234-4509-8d14-5b3258005058",
   "metadata": {},
   "outputs": [],
   "source": [
    "def flatten(lst):a"
   ]
  },
  {
   "cell_type": "code",
   "execution_count": 56,
   "id": "648e39d7-c61d-4db3-9330-b9d36594ae2b",
   "metadata": {},
   "outputs": [],
   "source": [
    "a=(range(1,5,2))"
   ]
  },
  {
   "cell_type": "code",
   "execution_count": 59,
   "id": "d581a885-e820-41d5-9026-eaa48a0fca30",
   "metadata": {},
   "outputs": [],
   "source": [
    "flatten_lst=lambda lst:[m for n_lst in lst for m in flatten_lst(n_lst)] if type(lst) is list else [lst] #lambda 生成器方法\n"
   ]
  },
  {
   "cell_type": "code",
   "execution_count": 61,
   "id": "22544003-378b-4a99-8957-07c18aef5770",
   "metadata": {},
   "outputs": [],
   "source": [
    "def infinite():\n",
    "    n=0\n",
    "    while True:\n",
    "        yield 'num#'+str(n)\n",
    "        n+=1\n"
   ]
  },
  {
   "cell_type": "code",
   "execution_count": 62,
   "id": "cb850e42-cd97-4354-85cd-f1ad051171c6",
   "metadata": {},
   "outputs": [
    {
     "name": "stdout",
     "output_type": "stream",
     "text": [
      "next(n)->num#0\n",
      "next(n)->num#1\n",
      "next(n)->num#2\n",
      "[next(n) for i in range(5)]->['num#3', 'num#4', 'num#5', 'num#6', 'num#7']\n"
     ]
    }
   ],
   "source": [
    "n=infinite()\n",
    "print(\"next(n)->{}\".format(next(n)))\n",
    "print(\"next(n)->{}\".format(next(n)))\n",
    "print(\"next(n)->{}\".format(next(n)))\n",
    "print(\"[next(n) for i in range(5)]->{}\".format([next(n) for i in range(5)]))\n"
   ]
  },
  {
   "cell_type": "code",
   "execution_count": 65,
   "id": "9474e095-4fcb-484a-990e-384efb3d366b",
   "metadata": {},
   "outputs": [
    {
     "name": "stdout",
     "output_type": "stream",
     "text": [
      "[[(2*n*(2*(u/(n-1))-1),2*n*(2*(v/(n-1))-1)) for u in range(n)] for v in range(n)]->[[(-6.0, -6.0), (0.0, -6.0), (6.0, -6.0)], [(-6.0, 0.0), (0.0, 0.0), (6.0, 0.0)], [(-6.0, 6.0), (0.0, 6.0), (6.0, 6.0)]]\n",
      "__________________________________________________\n",
      "([(2*n*(2*(u/(n-1))-1),2*n*(2*(v/(n-1))-1)) for u in range(n)] for v in range(n))-><generator object <genexpr> at 0x000001DB9FF97DD0>\n",
      "next(gen)->[(-6.0, -6.0), (0.0, -6.0), (6.0, -6.0)]\n",
      "next(gen)->[(-6.0, 0.0), (0.0, 0.0), (6.0, 0.0)]\n"
     ]
    }
   ],
   "source": [
    "n=3\n",
    "print(\"[[(2*n*(2*(u/(n-1))-1),2*n*(2*(v/(n-1))-1)) for u in range(n)] for v in range(n)]->{}\".format([[(2*n*(2*(u/(n-1))-1),2*n*(2*(v/(n-1))-1)) for u in range(n)] for v in range(n)]))\n",
    "print(\"_\"*50)\n",
    "print(\"([(2*n*(2*(u/(n-1))-1),2*n*(2*(v/(n-1))-1)) for u in range(n)] for v in range(n))->{}\".format(([(2*n*(2*(u/(n-1))-1),2*n*(2*(v/(n-1))-1)) for u in range(n)] for v in range(n))))\n",
    "gen=([(2*n*(2*(u/(n-1))-1),2*n*(2*(v/(n-1))-1)) for u in range(n)] for v in range(n))\n",
    "print(\"next(gen)->{}\".format(next(gen)))\n",
    "print(\"next(gen)->{}\".format(next(gen)))\n"
   ]
  },
  {
   "cell_type": "code",
   "execution_count": 67,
   "id": "33dabe8b-b7ee-493b-a538-c5708a20b4ad",
   "metadata": {},
   "outputs": [
    {
     "name": "stdout",
     "output_type": "stream",
     "text": [
      "f_convert_a('3.1415')->3.1415\n",
      "f_convert_a('string')->string\n",
      "f_convert_a(3,6,7)->(3, 6, 7)\n"
     ]
    }
   ],
   "source": [
    "def f_convert_a(x):\n",
    "    try:\n",
    "        return float(x)\n",
    "    except:\n",
    "        return x\n",
    "print(\"f_convert_a('3.1415')->{}\".format(f_convert_a('3.1415')))    \n",
    "print(\"f_convert_a('string')->{}\".format(f_convert_a('string')))  \n",
    "print(\"f_convert_a(3,6,7)->{}\".format(f_convert_a((3,6,7))))  \n"
   ]
  },
  {
   "cell_type": "code",
   "execution_count": 74,
   "id": "9a0b1971-37dc-4b66-806d-4c2f664d4e24",
   "metadata": {},
   "outputs": [
    {
     "name": "stdout",
     "output_type": "stream",
     "text": [
      "f_convert_c('3.1415')->3.1415\n",
      "f_convert_c('string')->string\n",
      "(3, 6, 7) TypeError\n",
      "f_convert_c(3,6,7)->None\n"
     ]
    }
   ],
   "source": [
    "def f_convert_c(x):\n",
    "    try:\n",
    "        return float(x)\n",
    "    except ValueError:\n",
    "        return x\n",
    "    except TypeError:\n",
    "        print(x,'TypeError')\n",
    "print(\"f_convert_c('3.1415')->{}\".format(f_convert_c('3.1415')))    \n",
    "print(\"f_convert_c('string')->{}\".format(f_convert_c('string')))  \n",
    "print(\"f_convert_c(3,6,7)->{}\".format(f_convert_c((3,6,7))))         \n"
   ]
  },
  {
   "cell_type": "code",
   "execution_count": 75,
   "id": "959e38ab-8391-4996-9f31-53baa9fa5333",
   "metadata": {},
   "outputs": [
    {
     "name": "stdout",
     "output_type": "stream",
     "text": [
      "f_convert_d('3.1415')->3.1415\n",
      "string ValueError or TypeError\n",
      "f_convert_d('string')->None\n",
      "(3, 6, 7) ValueError or TypeError\n",
      "f_convert_d(3,6,7)->None\n"
     ]
    }
   ],
   "source": [
    "def f_convert_d(x):\n",
    "    try:\n",
    "        return float(x)\n",
    "    except (ValueError,TypeError):\n",
    "        print(x,'ValueError or TypeError')\n",
    "print(\"f_convert_d('3.1415')->{}\".format(f_convert_d('3.1415')))    \n",
    "print(\"f_convert_d('string')->{}\".format(f_convert_d('string')))  \n",
    "print(\"f_convert_d(3,6,7)->{}\".format(f_convert_d((3,6,7)))) "
   ]
  },
  {
   "cell_type": "code",
   "execution_count": 76,
   "id": "7267b202-a7de-4075-b193-252cafc637ae",
   "metadata": {},
   "outputs": [
    {
     "name": "stdout",
     "output_type": "stream",
     "text": [
      "f_convert_e('3.1415')->3.1415\n",
      "string could not convert string to float: 'string'\n",
      "f_convert_e('string')->None\n",
      "(3, 6, 7) float() argument must be a string or a number, not 'tuple'\n",
      "f_convert_e(3,6,7)->None\n"
     ]
    }
   ],
   "source": [
    "def f_convert_e(x):\n",
    "    try:\n",
    "        return float(x)\n",
    "    except (ValueError,TypeError) as e:\n",
    "        return print(x,e)\n",
    "print(\"f_convert_e('3.1415')->{}\".format(f_convert_e('3.1415')))    \n",
    "print(\"f_convert_e('string')->{}\".format(f_convert_e('string')))  \n",
    "print(\"f_convert_e(3,6,7)->{}\".format(f_convert_e((3,6,7))))    \n"
   ]
  },
  {
   "cell_type": "code",
   "execution_count": 77,
   "id": "ac7ac173-d36e-4ff3-9a72-27b9e78625fd",
   "metadata": {},
   "outputs": [
    {
     "name": "stdout",
     "output_type": "stream",
     "text": [
      "f_convert_f('3.1415')->3.1415\n",
      "f_convert_f('string')->None\n",
      "f_convert_f(3,6,7)->None\n"
     ]
    }
   ],
   "source": [
    "def f_convert_f(x):\n",
    "    try:\n",
    "        return float(x)\n",
    "    except (ValueError,TypeError) as e:\n",
    "        pass\n",
    "print(\"f_convert_f('3.1415')->{}\".format(f_convert_f('3.1415')))    \n",
    "print(\"f_convert_f('string')->{}\".format(f_convert_f('string')))  \n",
    "print(\"f_convert_f(3,6,7)->{}\".format(f_convert_f((3,6,7))))     \n"
   ]
  },
  {
   "cell_type": "code",
   "execution_count": 78,
   "id": "0fa64151-fda0-4ec5-ac5f-f29f54196eda",
   "metadata": {},
   "outputs": [
    {
     "name": "stdout",
     "output_type": "stream",
     "text": [
      "Unable to open ./data/tryException.txt :[Errno 2] No such file or directory: './data/tryException.txt'\n",
      "\n",
      "tryException_content->None\n",
      "Unable to open ./data/tryException_.txt :[Errno 2] No such file or directory: './data/tryException_.txt'\n",
      "\n"
     ]
    }
   ],
   "source": [
    "def f_open_a(fp):\n",
    "    try:\n",
    "        f=open(fp,'r')\n",
    "    except IOError as e:\n",
    "        print('Unable to open',fp,':%s\\n' %e)\n",
    "    else:\n",
    "        data=f.read()\n",
    "        f.close\n",
    "        return data\n",
    "tryException_content=f_open_a(\"./data/tryException.txt\")   \n",
    "print(\"tryException_content->{}\".format(tryException_content))\n",
    "f_open_a(\"./data/tryException_.txt\")\n"
   ]
  },
  {
   "cell_type": "code",
   "execution_count": 79,
   "id": "a5e62b8a-1b4c-4d36-a05e-f981994984e7",
   "metadata": {},
   "outputs": [
    {
     "name": "stdout",
     "output_type": "stream",
     "text": [
      "Unable to open ./data/tryException.txt :[Errno 2] No such file or directory: './data/tryException.txt'\n",
      "\n",
      "done!\n"
     ]
    }
   ],
   "source": [
    "def f_open_b(fp):\n",
    "    try:\n",
    "        f=open(fp,'r')\n",
    "    except IOError as e:\n",
    "        print('Unable to open',fp,':%s\\n' %e)\n",
    "    else:\n",
    "        data=f.read()\n",
    "        f.close()\n",
    "        return data\n",
    "    finally:\n",
    "        print('done!')\n",
    "f_open_b(\"./data/tryException.txt\")        \n"
   ]
  },
  {
   "cell_type": "code",
   "execution_count": 85,
   "id": "53571c67-1584-4cd6-b782-2aa35ee01110",
   "metadata": {},
   "outputs": [],
   "source": [
    "a=a"
   ]
  },
  {
   "cell_type": "code",
   "execution_count": 84,
   "id": "b16e115b-6cef-46d7-abd5-51fe3ee34d61",
   "metadata": {},
   "outputs": [],
   "source": [
    "x=20\n",
    "assert x>0\n"
   ]
  },
  {
   "cell_type": "code",
   "execution_count": null,
   "id": "6fa84993-305b-4951-a08e-88ba0fc46075",
   "metadata": {},
   "outputs": [],
   "source": []
  }
 ],
 "metadata": {
  "kernelspec": {
   "display_name": "Python 3",
   "language": "python",
   "name": "python3"
  },
  "language_info": {
   "codemirror_mode": {
    "name": "ipython",
    "version": 3
   },
   "file_extension": ".py",
   "mimetype": "text/x-python",
   "name": "python",
   "nbconvert_exporter": "python",
   "pygments_lexer": "ipython3",
   "version": "3.8.8"
  }
 },
 "nbformat": 4,
 "nbformat_minor": 5
}
